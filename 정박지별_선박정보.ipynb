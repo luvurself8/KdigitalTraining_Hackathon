{
 "cells": [
  {
   "cell_type": "markdown",
   "id": "65055ce4",
   "metadata": {},
   "source": [
    "# 패키지 및 데이터 로드"
   ]
  },
  {
   "cell_type": "code",
   "execution_count": 1,
   "id": "1add5ad6",
   "metadata": {},
   "outputs": [],
   "source": [
    "import pandas as pd\n",
    "import numpy as np"
   ]
  },
  {
   "cell_type": "code",
   "execution_count": 15,
   "id": "b357b466",
   "metadata": {},
   "outputs": [],
   "source": [
    "busan = pd.read_csv('../data/Busan/busan_train_full2.csv',encoding='cp949').drop('Unnamed: 0',axis =1)"
   ]
  },
  {
   "cell_type": "code",
   "execution_count": 21,
   "id": "4c230705",
   "metadata": {},
   "outputs": [],
   "source": [
    "busan =busan[['선박번호', '날짜_시간', '날짜', '시간', '위도', '경도', '대지속력', '실침로', '선수미선',\n",
    "       '점사이_거리','첫점과의거리', '시간_차이', '정박지', '평균선회반경(m)', '유속', '유향', '유행', '풍향', '풍속',\n",
    "       '최대파고', '유의파고', '평균파고', 'answer']]"
   ]
  },
  {
   "cell_type": "code",
   "execution_count": 31,
   "id": "042b0aaa",
   "metadata": {},
   "outputs": [],
   "source": [
    "busan = busan.set_index('선박번호')"
   ]
  },
  {
   "cell_type": "code",
   "execution_count": 33,
   "id": "8ce87fe0",
   "metadata": {},
   "outputs": [],
   "source": [
    "busan.to_csv(\"../data/Busan/busan_train_full2.csv\", encoding=\"cp949\")"
   ]
  },
  {
   "cell_type": "markdown",
   "id": "e6e70cf8",
   "metadata": {},
   "source": [
    "# 정박지별 파일 만들기"
   ]
  },
  {
   "cell_type": "code",
   "execution_count": 24,
   "id": "5237a464",
   "metadata": {},
   "outputs": [],
   "source": [
    "import os\n",
    "path='../data/Busan'\n",
    "ext = '.csv'\n",
    "for folder in busan['정박지'].unique():\n",
    "    os.mkdir(path + '/' + 'N'+ str(folder))"
   ]
  },
  {
   "cell_type": "markdown",
   "id": "67f8c77f",
   "metadata": {},
   "source": [
    "# 정박지별로 나누기"
   ]
  },
  {
   "cell_type": "code",
   "execution_count": 25,
   "id": "9e3fd9e7",
   "metadata": {},
   "outputs": [],
   "source": [
    "for parkinglot in busan['정박지'].unique():\n",
    "    i = parkinglot\n",
    "    parkinglot = busan[busan['정박지']== parkinglot]\n",
    "    parkinglot.set_index('선박번호').to_csv(path + '/'+'N'+str(i)+'/'+'N'+str(i)+ext, encoding='cp949')"
   ]
  },
  {
   "cell_type": "markdown",
   "id": "80ee0d4a",
   "metadata": {},
   "source": [
    "# 선박별 나누기"
   ]
  },
  {
   "cell_type": "code",
   "execution_count": 28,
   "id": "7790deae",
   "metadata": {},
   "outputs": [],
   "source": [
    "for parkinglot in busan['정박지'].unique():\n",
    "    i = parkinglot\n",
    "    parkinglot = pd.read_csv(path + '/'+'N'+str(i)+'/'+'N'+str(i)+ext,encoding='cp949')\n",
    "    for boat_num in parkinglot['선박번호'].unique():\n",
    "        os.mkdir(path + '/' + 'N'+str(i)+'/'+str(boat_num))\n",
    "        parkinglot[parkinglot['선박번호']== boat_num].set_index('선박번호').to_csv(path +'/'+'N'+str(i)+'/'+str(boat_num)+'/'+str(boat_num)+ext, encoding='cp949')\n",
    "        "
   ]
  }
 ],
 "metadata": {
  "kernelspec": {
   "display_name": "Python 3 (ipykernel)",
   "language": "python",
   "name": "python3"
  },
  "language_info": {
   "codemirror_mode": {
    "name": "ipython",
    "version": 3
   },
   "file_extension": ".py",
   "mimetype": "text/x-python",
   "name": "python",
   "nbconvert_exporter": "python",
   "pygments_lexer": "ipython3",
   "version": "3.9.13"
  },
  "toc": {
   "base_numbering": 1,
   "nav_menu": {},
   "number_sections": true,
   "sideBar": true,
   "skip_h1_title": false,
   "title_cell": "Table of Contents",
   "title_sidebar": "Contents",
   "toc_cell": false,
   "toc_position": {},
   "toc_section_display": true,
   "toc_window_display": false
  }
 },
 "nbformat": 4,
 "nbformat_minor": 5
}
