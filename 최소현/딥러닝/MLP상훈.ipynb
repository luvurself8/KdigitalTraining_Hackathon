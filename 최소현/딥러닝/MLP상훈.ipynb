{
 "cells": [
  {
   "attachments": {},
   "cell_type": "markdown",
   "id": "8dec3000",
   "metadata": {
    "id": "8dec3000"
   },
   "source": [
    "# 패키지 다운로드"
   ]
  },
  {
   "cell_type": "code",
   "execution_count": 1,
   "id": "S6lqE0Amo5Ap",
   "metadata": {
    "id": "S6lqE0Amo5Ap"
   },
   "outputs": [],
   "source": [
    "# train_original = pd.read_excel('/content/drive/MyDrive//07. 1차프로젝트/02. Train_Test Data/train.xlsx')\n",
    "# print(train_original.shape)\n",
    "# train_original.head()"
   ]
  },
  {
   "cell_type": "code",
   "execution_count": 1,
   "id": "b141b3fd",
   "metadata": {
    "scrolled": true
   },
   "outputs": [
    {
     "data": {
      "text/plain": [
       "90000"
      ]
     },
     "execution_count": 1,
     "metadata": {},
     "output_type": "execute_result"
    }
   ],
   "source": [
    "25*60*60"
   ]
  },
  {
   "cell_type": "code",
   "execution_count": 6,
   "id": "afd3ab5e",
   "metadata": {
    "id": "afd3ab5e"
   },
   "outputs": [
    {
     "ename": "ModuleNotFoundError",
     "evalue": "No module named 'pandas'",
     "output_type": "error",
     "traceback": [
      "\u001b[1;31m---------------------------------------------------------------------------\u001b[0m",
      "\u001b[1;31mModuleNotFoundError\u001b[0m                       Traceback (most recent call last)",
      "Cell \u001b[1;32mIn[6], line 6\u001b[0m\n\u001b[0;32m      1\u001b[0m \u001b[39m#import tensorflow as tf\u001b[39;00m\n\u001b[0;32m      2\u001b[0m \u001b[39m#import matplotlib as mpl\u001b[39;00m\n\u001b[0;32m      3\u001b[0m \u001b[39m#import matplotlib.pyplot as plt\u001b[39;00m\n\u001b[0;32m      4\u001b[0m \u001b[39m#import numpy as np\u001b[39;00m\n\u001b[0;32m      5\u001b[0m \u001b[39m#import os\u001b[39;00m\n\u001b[1;32m----> 6\u001b[0m \u001b[39mimport\u001b[39;00m \u001b[39mpandas\u001b[39;00m \u001b[39mas\u001b[39;00m \u001b[39mpd\u001b[39;00m\n\u001b[0;32m      7\u001b[0m \u001b[39m#import warnings\u001b[39;00m\n\u001b[0;32m      9\u001b[0m \u001b[39mfrom\u001b[39;00m \u001b[39mstatsmodels\u001b[39;00m\u001b[39m.\u001b[39;00m\u001b[39mstats\u001b[39;00m\u001b[39m.\u001b[39;00m\u001b[39moutliers_influence\u001b[39;00m \u001b[39mimport\u001b[39;00m variance_inflation_factor\n",
      "\u001b[1;31mModuleNotFoundError\u001b[0m: No module named 'pandas'"
     ]
    }
   ],
   "source": [
    "#import tensorflow as tf\n",
    "#import matplotlib as mpl\n",
    "#import matplotlib.pyplot as plt\n",
    "#import numpy as np\n",
    "#import os\n",
    "import pandas as pd\n",
    "#import warnings\n",
    "\n",
    "from statsmodels.stats.outliers_influence import variance_inflation_factor\n",
    "\n",
    "np.set_printoptions(suppress=True)\n",
    "\n",
    "\n",
    "# mpl.rcParams['figure.figsize'] = (8, 6)\n",
    "# mpl.rcParams['axes.grid'] = False\n",
    "\n",
    "warnings.filterwarnings(\"ignore\")"
   ]
  },
  {
   "cell_type": "code",
   "execution_count": 2,
   "id": "39b60bba",
   "metadata": {},
   "outputs": [
    {
     "name": "stderr",
     "output_type": "stream",
     "text": [
      "'pip'��(��) ���� �Ǵ� �ܺ� ����, ������ �� �ִ� ���α׷�, �Ǵ�\n",
      "��ġ ������ �ƴմϴ�.\n"
     ]
    }
   ],
   "source": [
    "!pip install tensorflow"
   ]
  },
  {
   "attachments": {},
   "cell_type": "markdown",
   "id": "282f733d",
   "metadata": {
    "id": "282f733d"
   },
   "source": [
    "# 데이터 셋 확인"
   ]
  },
  {
   "cell_type": "code",
   "execution_count": 3,
   "id": "192cdeef",
   "metadata": {
    "id": "192cdeef"
   },
   "outputs": [],
   "source": [
    "# '선박번호', '날짜_시간', '날짜', '시간', '위도', '경도', '대지속력', '실침로', '선수미선','점사이_거리', '시간_차이', '정박지', '평균선회반경(m)', '유속', '유향', '우행', '풍향', '풍속', '최대파고', '유의파고', '평균파고', 'answer', '유행'"
   ]
  },
  {
   "cell_type": "code",
   "execution_count": 2,
   "id": "c0a04a52",
   "metadata": {
    "id": "c0a04a52"
   },
   "outputs": [
    {
     "ename": "NameError",
     "evalue": "name 'pd' is not defined",
     "output_type": "error",
     "traceback": [
      "\u001b[1;31m---------------------------------------------------------------------------\u001b[0m",
      "\u001b[1;31mNameError\u001b[0m                                 Traceback (most recent call last)",
      "Cell \u001b[1;32mIn[2], line 2\u001b[0m\n\u001b[0;32m      1\u001b[0m \u001b[39m# 데이터 불러오기\u001b[39;00m\n\u001b[1;32m----> 2\u001b[0m busan \u001b[39m=\u001b[39m pd\u001b[39m.\u001b[39mread_csv(\u001b[39m\"\u001b[39m\u001b[39m../data/Busan/busan_train_full3.csv\u001b[39m\u001b[39m\"\u001b[39m, encoding\u001b[39m=\u001b[39m\u001b[39m\"\u001b[39m\u001b[39mcp949\u001b[39m\u001b[39m\"\u001b[39m)\n",
      "\u001b[1;31mNameError\u001b[0m: name 'pd' is not defined"
     ]
    }
   ],
   "source": [
    "# 데이터 불러오기\n",
    "busan = pd.read_csv(\"../data/Busan/busan_train_full3.csv\", encoding=\"cp949\")"
   ]
  },
  {
   "attachments": {},
   "cell_type": "markdown",
   "id": "c3fb333b",
   "metadata": {
    "id": "c3fb333b"
   },
   "source": [
    "## 유향 전처리 다시하기"
   ]
  },
  {
   "cell_type": "code",
   "execution_count": 5,
   "id": "1c9905ea",
   "metadata": {
    "id": "1c9905ea"
   },
   "outputs": [],
   "source": [
    "# '선박번호', '날짜_시간', '날짜', '시간', '위도', '경도', '대지속력', '실침로', '선수미선', '점사이_거리', '시간_차이', '정박지', '평균선회반경(m)', '유속', '유향', '우행', '풍향', '풍속', '최대파고', '유의파고', '평균파고', 'answer', '유행', 'Combined'"
   ]
  },
  {
   "cell_type": "code",
   "execution_count": 1,
   "id": "1f02b478",
   "metadata": {
    "colab": {
     "base_uri": "https://localhost:8080/",
     "height": 423
    },
    "executionInfo": {
     "elapsed": 315,
     "status": "ok",
     "timestamp": 1685937532843,
     "user": {
      "displayName": "최소현",
      "userId": "10730094540081288395"
     },
     "user_tz": -540
    },
    "id": "1f02b478",
    "outputId": "be665ea3-48e2-4e77-f9c1-f35f66bc8348"
   },
   "outputs": [
    {
     "ename": "NameError",
     "evalue": "name 'busan' is not defined",
     "output_type": "error",
     "traceback": [
      "\u001b[1;31m---------------------------------------------------------------------------\u001b[0m",
      "\u001b[1;31mNameError\u001b[0m                                 Traceback (most recent call last)",
      "Cell \u001b[1;32mIn[1], line 1\u001b[0m\n\u001b[1;32m----> 1\u001b[0m busan_test \u001b[39m=\u001b[39m busan[[\u001b[39m'\u001b[39m\u001b[39m선박번호\u001b[39m\u001b[39m'\u001b[39m, \u001b[39m'\u001b[39m\u001b[39m날짜_시간\u001b[39m\u001b[39m'\u001b[39m, \u001b[39m'\u001b[39m\u001b[39m정박지\u001b[39m\u001b[39m'\u001b[39m,\u001b[39m'\u001b[39m\u001b[39m평균선회반경(m)\u001b[39m\u001b[39m'\u001b[39m,\u001b[39m'\u001b[39m\u001b[39m유속\u001b[39m\u001b[39m'\u001b[39m, \u001b[39m'\u001b[39m\u001b[39m유행\u001b[39m\u001b[39m'\u001b[39m, \u001b[39m'\u001b[39m\u001b[39m풍향\u001b[39m\u001b[39m'\u001b[39m, \u001b[39m'\u001b[39m\u001b[39m풍속\u001b[39m\u001b[39m'\u001b[39m, \u001b[39m'\u001b[39m\u001b[39manswer\u001b[39m\u001b[39m'\u001b[39m]]\n\u001b[0;32m      2\u001b[0m busan_test \u001b[39m=\u001b[39m busan_test\u001b[39m.\u001b[39mdropna()\n\u001b[0;32m      3\u001b[0m busan_test\n",
      "\u001b[1;31mNameError\u001b[0m: name 'busan' is not defined"
     ]
    }
   ],
   "source": [
    "busan_test = busan[['선박번호', '날짜_시간', '정박지','평균선회반경(m)','유속', '유행', '풍향', '풍속', 'answer']]\n",
    "busan_test = busan_test.dropna()\n",
    "busan_test"
   ]
  },
  {
   "cell_type": "code",
   "execution_count": 7,
   "id": "8b8637e4",
   "metadata": {
    "id": "8b8637e4"
   },
   "outputs": [],
   "source": [
    "# 결측치 없는 데이터 정제 / datetime 변환\n",
    "busan_test_full = busan_test.dropna().reset_index(drop = True)\n",
    "busan_test_full[\"날짜_시간\"] = pd.to_datetime(busan_test_full[\"날짜_시간\"])"
   ]
  },
  {
   "cell_type": "code",
   "execution_count": 8,
   "id": "170e9c47",
   "metadata": {
    "colab": {
     "base_uri": "https://localhost:8080/",
     "height": 658
    },
    "executionInfo": {
     "elapsed": 3373,
     "status": "ok",
     "timestamp": 1685937548339,
     "user": {
      "displayName": "최소현",
      "userId": "10730094540081288395"
     },
     "user_tz": -540
    },
    "id": "170e9c47",
    "outputId": "95b56cf1-75e9-416d-91df-5a949866256c"
   },
   "outputs": [
    {
     "data": {
      "text/html": [
       "<div>\n",
       "<style scoped>\n",
       "    .dataframe tbody tr th:only-of-type {\n",
       "        vertical-align: middle;\n",
       "    }\n",
       "\n",
       "    .dataframe tbody tr th {\n",
       "        vertical-align: top;\n",
       "    }\n",
       "\n",
       "    .dataframe thead th {\n",
       "        text-align: right;\n",
       "    }\n",
       "</style>\n",
       "<table border=\"1\" class=\"dataframe\">\n",
       "  <thead>\n",
       "    <tr style=\"text-align: right;\">\n",
       "      <th></th>\n",
       "      <th>날짜_시간</th>\n",
       "      <th>선박번호</th>\n",
       "      <th>정박지</th>\n",
       "      <th>평균선회반경(m)</th>\n",
       "      <th>유속</th>\n",
       "      <th>유행</th>\n",
       "      <th>풍향</th>\n",
       "      <th>풍속</th>\n",
       "      <th>answer</th>\n",
       "    </tr>\n",
       "  </thead>\n",
       "  <tbody>\n",
       "    <tr>\n",
       "      <th>0</th>\n",
       "      <td>2021-01-14 22:47:00</td>\n",
       "      <td>1.0</td>\n",
       "      <td>3.0</td>\n",
       "      <td>322.0</td>\n",
       "      <td>21.300000</td>\n",
       "      <td>98.000000</td>\n",
       "      <td>358.000000</td>\n",
       "      <td>1.200000</td>\n",
       "      <td>0.0</td>\n",
       "    </tr>\n",
       "    <tr>\n",
       "      <th>1</th>\n",
       "      <td>2021-01-14 22:48:00</td>\n",
       "      <td>1.0</td>\n",
       "      <td>3.0</td>\n",
       "      <td>322.0</td>\n",
       "      <td>21.233333</td>\n",
       "      <td>97.000000</td>\n",
       "      <td>300.333333</td>\n",
       "      <td>0.866667</td>\n",
       "      <td>0.0</td>\n",
       "    </tr>\n",
       "    <tr>\n",
       "      <th>2</th>\n",
       "      <td>2021-01-14 22:49:00</td>\n",
       "      <td>1.0</td>\n",
       "      <td>3.0</td>\n",
       "      <td>322.0</td>\n",
       "      <td>21.166667</td>\n",
       "      <td>96.000000</td>\n",
       "      <td>242.666667</td>\n",
       "      <td>0.533333</td>\n",
       "      <td>0.0</td>\n",
       "    </tr>\n",
       "    <tr>\n",
       "      <th>3</th>\n",
       "      <td>2021-01-14 22:50:00</td>\n",
       "      <td>1.0</td>\n",
       "      <td>3.0</td>\n",
       "      <td>322.0</td>\n",
       "      <td>21.100000</td>\n",
       "      <td>95.000000</td>\n",
       "      <td>185.000000</td>\n",
       "      <td>0.200000</td>\n",
       "      <td>0.0</td>\n",
       "    </tr>\n",
       "    <tr>\n",
       "      <th>4</th>\n",
       "      <td>2021-01-14 22:51:00</td>\n",
       "      <td>1.0</td>\n",
       "      <td>3.0</td>\n",
       "      <td>322.0</td>\n",
       "      <td>20.850000</td>\n",
       "      <td>94.500000</td>\n",
       "      <td>201.500000</td>\n",
       "      <td>0.183333</td>\n",
       "      <td>0.0</td>\n",
       "    </tr>\n",
       "    <tr>\n",
       "      <th>...</th>\n",
       "      <td>...</td>\n",
       "      <td>...</td>\n",
       "      <td>...</td>\n",
       "      <td>...</td>\n",
       "      <td>...</td>\n",
       "      <td>...</td>\n",
       "      <td>...</td>\n",
       "      <td>...</td>\n",
       "      <td>...</td>\n",
       "    </tr>\n",
       "    <tr>\n",
       "      <th>337702</th>\n",
       "      <td>2022-04-10 17:47:00</td>\n",
       "      <td>247.0</td>\n",
       "      <td>3.0</td>\n",
       "      <td>322.0</td>\n",
       "      <td>16.666667</td>\n",
       "      <td>73.000000</td>\n",
       "      <td>195.666667</td>\n",
       "      <td>9.333333</td>\n",
       "      <td>0.0</td>\n",
       "    </tr>\n",
       "    <tr>\n",
       "      <th>337703</th>\n",
       "      <td>2022-04-10 17:48:00</td>\n",
       "      <td>247.0</td>\n",
       "      <td>3.0</td>\n",
       "      <td>322.0</td>\n",
       "      <td>15.900000</td>\n",
       "      <td>73.000000</td>\n",
       "      <td>196.000000</td>\n",
       "      <td>9.400000</td>\n",
       "      <td>0.0</td>\n",
       "    </tr>\n",
       "    <tr>\n",
       "      <th>337704</th>\n",
       "      <td>2022-04-10 17:49:00</td>\n",
       "      <td>247.0</td>\n",
       "      <td>3.0</td>\n",
       "      <td>322.0</td>\n",
       "      <td>17.100000</td>\n",
       "      <td>74.666667</td>\n",
       "      <td>197.000000</td>\n",
       "      <td>9.033333</td>\n",
       "      <td>0.0</td>\n",
       "    </tr>\n",
       "    <tr>\n",
       "      <th>337705</th>\n",
       "      <td>2022-04-10 17:50:00</td>\n",
       "      <td>247.0</td>\n",
       "      <td>3.0</td>\n",
       "      <td>322.0</td>\n",
       "      <td>18.300000</td>\n",
       "      <td>76.333333</td>\n",
       "      <td>198.000000</td>\n",
       "      <td>8.666667</td>\n",
       "      <td>0.0</td>\n",
       "    </tr>\n",
       "    <tr>\n",
       "      <th>337706</th>\n",
       "      <td>2022-04-10 17:51:00</td>\n",
       "      <td>247.0</td>\n",
       "      <td>3.0</td>\n",
       "      <td>322.0</td>\n",
       "      <td>19.500000</td>\n",
       "      <td>78.000000</td>\n",
       "      <td>199.000000</td>\n",
       "      <td>8.300000</td>\n",
       "      <td>0.0</td>\n",
       "    </tr>\n",
       "  </tbody>\n",
       "</table>\n",
       "<p>337707 rows × 9 columns</p>\n",
       "</div>"
      ],
      "text/plain": [
       "                     날짜_시간   선박번호  정박지  평균선회반경(m)         유속         유행  \\\n",
       "0      2021-01-14 22:47:00    1.0  3.0      322.0  21.300000  98.000000   \n",
       "1      2021-01-14 22:48:00    1.0  3.0      322.0  21.233333  97.000000   \n",
       "2      2021-01-14 22:49:00    1.0  3.0      322.0  21.166667  96.000000   \n",
       "3      2021-01-14 22:50:00    1.0  3.0      322.0  21.100000  95.000000   \n",
       "4      2021-01-14 22:51:00    1.0  3.0      322.0  20.850000  94.500000   \n",
       "...                    ...    ...  ...        ...        ...        ...   \n",
       "337702 2022-04-10 17:47:00  247.0  3.0      322.0  16.666667  73.000000   \n",
       "337703 2022-04-10 17:48:00  247.0  3.0      322.0  15.900000  73.000000   \n",
       "337704 2022-04-10 17:49:00  247.0  3.0      322.0  17.100000  74.666667   \n",
       "337705 2022-04-10 17:50:00  247.0  3.0      322.0  18.300000  76.333333   \n",
       "337706 2022-04-10 17:51:00  247.0  3.0      322.0  19.500000  78.000000   \n",
       "\n",
       "                풍향        풍속  answer  \n",
       "0       358.000000  1.200000     0.0  \n",
       "1       300.333333  0.866667     0.0  \n",
       "2       242.666667  0.533333     0.0  \n",
       "3       185.000000  0.200000     0.0  \n",
       "4       201.500000  0.183333     0.0  \n",
       "...            ...       ...     ...  \n",
       "337702  195.666667  9.333333     0.0  \n",
       "337703  196.000000  9.400000     0.0  \n",
       "337704  197.000000  9.033333     0.0  \n",
       "337705  198.000000  8.666667     0.0  \n",
       "337706  199.000000  8.300000     0.0  \n",
       "\n",
       "[337707 rows x 9 columns]"
      ]
     },
     "execution_count": 8,
     "metadata": {},
     "output_type": "execute_result"
    }
   ],
   "source": [
    "# 보간법\n",
    "df = pd.DataFrame()\n",
    "\n",
    "for i in busan_test_full[\"선박번호\"].unique():\n",
    "    temp = busan_test_full[busan_test_full[\"선박번호\"] == i]\n",
    "\n",
    "    temp = temp.set_index('날짜_시간')\n",
    "    temp = temp.resample('1T').mean().interpolate()\n",
    "    df = pd.concat([df, temp], axis = 0)\n",
    "    \n",
    "# 보간법으로 늘어난 answer의 값을 0, 1로 조정\n",
    "df.loc[df['answer'] != 1, 'answer'] = 0\n",
    "df= df.reset_index()\n",
    "df"
   ]
  },
  {
   "attachments": {},
   "cell_type": "markdown",
   "id": "74f6d1d8",
   "metadata": {
    "id": "74f6d1d8"
   },
   "source": [
    "### 보간 & 더미 데이터"
   ]
  },
  {
   "cell_type": "code",
   "execution_count": 9,
   "id": "620a180f",
   "metadata": {
    "id": "620a180f"
   },
   "outputs": [],
   "source": [
    "dummy = pd.get_dummies(df['정박지'])\n",
    "\n",
    "dummy_busan = pd.concat([dummy, df[['선박번호', '유속', '유행', '풍향', '풍속', 'answer']]], axis = 1)"
   ]
  },
  {
   "attachments": {},
   "cell_type": "markdown",
   "id": "64ccd42f",
   "metadata": {
    "id": "64ccd42f"
   },
   "source": [
    "### 학습데이터 준비"
   ]
  },
  {
   "cell_type": "code",
   "execution_count": 10,
   "id": "ca56e8cb",
   "metadata": {
    "colab": {
     "base_uri": "https://localhost:8080/",
     "height": 467
    },
    "executionInfo": {
     "elapsed": 544,
     "status": "ok",
     "timestamp": 1685937641062,
     "user": {
      "displayName": "최소현",
      "userId": "10730094540081288395"
     },
     "user_tz": -540
    },
    "id": "ca56e8cb",
    "outputId": "cbefb5bc-77fe-416c-de02-0fb69b8728ca"
   },
   "outputs": [
    {
     "data": {
      "text/html": [
       "<div>\n",
       "<style scoped>\n",
       "    .dataframe tbody tr th:only-of-type {\n",
       "        vertical-align: middle;\n",
       "    }\n",
       "\n",
       "    .dataframe tbody tr th {\n",
       "        vertical-align: top;\n",
       "    }\n",
       "\n",
       "    .dataframe thead th {\n",
       "        text-align: right;\n",
       "    }\n",
       "</style>\n",
       "<table border=\"1\" class=\"dataframe\">\n",
       "  <thead>\n",
       "    <tr style=\"text-align: right;\">\n",
       "      <th></th>\n",
       "      <th>선박번호</th>\n",
       "      <th>유속</th>\n",
       "      <th>유행</th>\n",
       "      <th>풍향</th>\n",
       "      <th>풍속</th>\n",
       "      <th>1.0</th>\n",
       "      <th>2.0</th>\n",
       "      <th>3.0</th>\n",
       "      <th>4.0</th>\n",
       "      <th>5.0</th>\n",
       "      <th>answer</th>\n",
       "    </tr>\n",
       "  </thead>\n",
       "  <tbody>\n",
       "    <tr>\n",
       "      <th>0</th>\n",
       "      <td>1.0</td>\n",
       "      <td>21.300000</td>\n",
       "      <td>98.000000</td>\n",
       "      <td>358.000000</td>\n",
       "      <td>1.200000</td>\n",
       "      <td>0</td>\n",
       "      <td>0</td>\n",
       "      <td>1</td>\n",
       "      <td>0</td>\n",
       "      <td>0</td>\n",
       "      <td>0.0</td>\n",
       "    </tr>\n",
       "    <tr>\n",
       "      <th>1</th>\n",
       "      <td>1.0</td>\n",
       "      <td>21.233333</td>\n",
       "      <td>97.000000</td>\n",
       "      <td>300.333333</td>\n",
       "      <td>0.866667</td>\n",
       "      <td>0</td>\n",
       "      <td>0</td>\n",
       "      <td>1</td>\n",
       "      <td>0</td>\n",
       "      <td>0</td>\n",
       "      <td>0.0</td>\n",
       "    </tr>\n",
       "    <tr>\n",
       "      <th>2</th>\n",
       "      <td>1.0</td>\n",
       "      <td>21.166667</td>\n",
       "      <td>96.000000</td>\n",
       "      <td>242.666667</td>\n",
       "      <td>0.533333</td>\n",
       "      <td>0</td>\n",
       "      <td>0</td>\n",
       "      <td>1</td>\n",
       "      <td>0</td>\n",
       "      <td>0</td>\n",
       "      <td>0.0</td>\n",
       "    </tr>\n",
       "    <tr>\n",
       "      <th>3</th>\n",
       "      <td>1.0</td>\n",
       "      <td>21.100000</td>\n",
       "      <td>95.000000</td>\n",
       "      <td>185.000000</td>\n",
       "      <td>0.200000</td>\n",
       "      <td>0</td>\n",
       "      <td>0</td>\n",
       "      <td>1</td>\n",
       "      <td>0</td>\n",
       "      <td>0</td>\n",
       "      <td>0.0</td>\n",
       "    </tr>\n",
       "    <tr>\n",
       "      <th>4</th>\n",
       "      <td>1.0</td>\n",
       "      <td>20.850000</td>\n",
       "      <td>94.500000</td>\n",
       "      <td>201.500000</td>\n",
       "      <td>0.183333</td>\n",
       "      <td>0</td>\n",
       "      <td>0</td>\n",
       "      <td>1</td>\n",
       "      <td>0</td>\n",
       "      <td>0</td>\n",
       "      <td>0.0</td>\n",
       "    </tr>\n",
       "    <tr>\n",
       "      <th>...</th>\n",
       "      <td>...</td>\n",
       "      <td>...</td>\n",
       "      <td>...</td>\n",
       "      <td>...</td>\n",
       "      <td>...</td>\n",
       "      <td>...</td>\n",
       "      <td>...</td>\n",
       "      <td>...</td>\n",
       "      <td>...</td>\n",
       "      <td>...</td>\n",
       "      <td>...</td>\n",
       "    </tr>\n",
       "    <tr>\n",
       "      <th>337702</th>\n",
       "      <td>247.0</td>\n",
       "      <td>16.666667</td>\n",
       "      <td>73.000000</td>\n",
       "      <td>195.666667</td>\n",
       "      <td>9.333333</td>\n",
       "      <td>0</td>\n",
       "      <td>0</td>\n",
       "      <td>1</td>\n",
       "      <td>0</td>\n",
       "      <td>0</td>\n",
       "      <td>0.0</td>\n",
       "    </tr>\n",
       "    <tr>\n",
       "      <th>337703</th>\n",
       "      <td>247.0</td>\n",
       "      <td>15.900000</td>\n",
       "      <td>73.000000</td>\n",
       "      <td>196.000000</td>\n",
       "      <td>9.400000</td>\n",
       "      <td>0</td>\n",
       "      <td>0</td>\n",
       "      <td>1</td>\n",
       "      <td>0</td>\n",
       "      <td>0</td>\n",
       "      <td>0.0</td>\n",
       "    </tr>\n",
       "    <tr>\n",
       "      <th>337704</th>\n",
       "      <td>247.0</td>\n",
       "      <td>17.100000</td>\n",
       "      <td>74.666667</td>\n",
       "      <td>197.000000</td>\n",
       "      <td>9.033333</td>\n",
       "      <td>0</td>\n",
       "      <td>0</td>\n",
       "      <td>1</td>\n",
       "      <td>0</td>\n",
       "      <td>0</td>\n",
       "      <td>0.0</td>\n",
       "    </tr>\n",
       "    <tr>\n",
       "      <th>337705</th>\n",
       "      <td>247.0</td>\n",
       "      <td>18.300000</td>\n",
       "      <td>76.333333</td>\n",
       "      <td>198.000000</td>\n",
       "      <td>8.666667</td>\n",
       "      <td>0</td>\n",
       "      <td>0</td>\n",
       "      <td>1</td>\n",
       "      <td>0</td>\n",
       "      <td>0</td>\n",
       "      <td>0.0</td>\n",
       "    </tr>\n",
       "    <tr>\n",
       "      <th>337706</th>\n",
       "      <td>247.0</td>\n",
       "      <td>19.500000</td>\n",
       "      <td>78.000000</td>\n",
       "      <td>199.000000</td>\n",
       "      <td>8.300000</td>\n",
       "      <td>0</td>\n",
       "      <td>0</td>\n",
       "      <td>1</td>\n",
       "      <td>0</td>\n",
       "      <td>0</td>\n",
       "      <td>0.0</td>\n",
       "    </tr>\n",
       "  </tbody>\n",
       "</table>\n",
       "<p>337707 rows × 11 columns</p>\n",
       "</div>"
      ],
      "text/plain": [
       "         선박번호         유속         유행          풍향        풍속  1.0  2.0  3.0  4.0  \\\n",
       "0         1.0  21.300000  98.000000  358.000000  1.200000    0    0    1    0   \n",
       "1         1.0  21.233333  97.000000  300.333333  0.866667    0    0    1    0   \n",
       "2         1.0  21.166667  96.000000  242.666667  0.533333    0    0    1    0   \n",
       "3         1.0  21.100000  95.000000  185.000000  0.200000    0    0    1    0   \n",
       "4         1.0  20.850000  94.500000  201.500000  0.183333    0    0    1    0   \n",
       "...       ...        ...        ...         ...       ...  ...  ...  ...  ...   \n",
       "337702  247.0  16.666667  73.000000  195.666667  9.333333    0    0    1    0   \n",
       "337703  247.0  15.900000  73.000000  196.000000  9.400000    0    0    1    0   \n",
       "337704  247.0  17.100000  74.666667  197.000000  9.033333    0    0    1    0   \n",
       "337705  247.0  18.300000  76.333333  198.000000  8.666667    0    0    1    0   \n",
       "337706  247.0  19.500000  78.000000  199.000000  8.300000    0    0    1    0   \n",
       "\n",
       "        5.0  answer  \n",
       "0         0     0.0  \n",
       "1         0     0.0  \n",
       "2         0     0.0  \n",
       "3         0     0.0  \n",
       "4         0     0.0  \n",
       "...     ...     ...  \n",
       "337702    0     0.0  \n",
       "337703    0     0.0  \n",
       "337704    0     0.0  \n",
       "337705    0     0.0  \n",
       "337706    0     0.0  \n",
       "\n",
       "[337707 rows x 11 columns]"
      ]
     },
     "execution_count": 10,
     "metadata": {},
     "output_type": "execute_result"
    }
   ],
   "source": [
    "busan_df = dummy_busan[['선박번호', \"유속\",\"유행\",\"풍향\",\"풍속\",1,2,3,4,5,\"answer\"]]\n",
    "busan_df"
   ]
  },
  {
   "cell_type": "code",
   "execution_count": 11,
   "id": "c620f072",
   "metadata": {},
   "outputs": [],
   "source": [
    "busan = busan_df.values\n",
    "dataset = busan[:, 1:5]\n",
    "data_mean = dataset.mean(axis=0)\n",
    "data_std = dataset.std(axis=0)\n",
    "dataset = (dataset-data_mean)/data_std\n",
    "    \n",
    "remain = busan[:, (0,5,6,7,8,9)]\n",
    "    \n",
    "dataset = np.concatenate((np.reshape(remain[:, 0], (-1,1)), dataset), axis=1)\n",
    "dataset = np.concatenate((dataset,remain[:, 1:]), axis=1)\n",
    "\n",
    "study_length = 60\n",
    "expect_period=  30\n",
    "\n",
    "data = []\n",
    "label = []\n",
    "boat_num=np.unique(dataset [:,0])\n",
    "np.random.shuffle(boat_num)\n",
    "\n",
    "for j in boat_num:\n",
    "    temp=dataset[dataset[:,0]==j]\n",
    "    for i in range(len(temp) - study_length - expect_period):\n",
    "        data.append(dataset[i:i+study_length, 1:-1])\n",
    "        label.append(dataset[i+study_length+expect_period,-1])"
   ]
  },
  {
   "attachments": {},
   "cell_type": "markdown",
   "id": "91d42ec2",
   "metadata": {
    "id": "91d42ec2"
   },
   "source": [
    "# 데이터 표준화 및 분리\n",
    "- 전체 데이터를 표준화"
   ]
  },
  {
   "cell_type": "code",
   "execution_count": 12,
   "id": "34116a2f",
   "metadata": {
    "id": "34116a2f"
   },
   "outputs": [
    {
     "name": "stdout",
     "output_type": "stream",
     "text": [
      "(254325, 60, 8)\n",
      "(63582, 60, 8)\n",
      "(254325, 1)\n",
      "(63582, 1)\n"
     ]
    }
   ],
   "source": [
    "# study_length = 40\n",
    "# expect_period=  30\n",
    "\n",
    "# data = []\n",
    "# label = []\n",
    "\n",
    "# for j in busan_df[\"선박번호\"].unique():\n",
    "#     temp = busan_df[busan_df[\"선박번호\"] == j].values\n",
    "#     # 표준화\n",
    "#     dataset = temp[:, 1:5]\n",
    "#     data_mean = dataset.mean(axis=0)\n",
    "#     data_std = dataset.std(axis=0)\n",
    "#     dataset = (dataset-data_mean)/data_std\n",
    "    \n",
    "#     remain = temp[:,(5,6,7,8,9)]\n",
    "    \n",
    "#     dataset = np.concatenate((np.reshape(remain[:,0],(-1,1)),dataset), axis=1)\n",
    "#     dataset = np.concatenate((dataset,remain[:,1:]), axis=1)\n",
    "#     # 분리\n",
    "#     for i in range(len(temp) - study_length - expect_period):\n",
    "#         data.append(dataset[i:i+study_length,0:-1])\n",
    "#         label.append(dataset[i+study_length+expect_period,-1])\n",
    "        \n",
    "        \n",
    "# 학습 - 평가 데이터 분리\n",
    "train_test_split = int(len(label)*0.8)\n",
    "data_split = np.split(data, [train_test_split], axis=0)\n",
    "label_split = np.split(label, [train_test_split], axis=0)\n",
    "\n",
    "data_train = data_split[0]\n",
    "data_test = data_split[1]\n",
    "\n",
    "label_train = label_split[0]\n",
    "label_test = label_split[1]\n",
    "\n",
    "\n",
    "# 결과 확인\n",
    "label_train = np.reshape(label_train,(-1,1))\n",
    "label_test = np.reshape(label_test,(-1,1))\n",
    "print(data_train.shape)  # (262245, 15, 9)\n",
    "print(data_test.shape)  # (65562, 15, 9)\n",
    "\n",
    "print(label_train.shape)  #(262245, )\n",
    "print(label_test.shape)  #(65562, )"
   ]
  },
  {
   "cell_type": "code",
   "execution_count": 13,
   "id": "8a2ece39",
   "metadata": {},
   "outputs": [],
   "source": [
    "BUFFER_SIZE = 100\n",
    "BATCH_SIZE = 88\n",
    "# 모델 학습 시 사용할 데이터의 크기\n",
    "# 데이터셋 크기의 10% ~ 20%\n",
    "\n",
    "train_data = tf.data.Dataset.from_tensor_slices((data_train, label_train))\n",
    "train_data = train_data.cache().shuffle(BUFFER_SIZE).batch(BATCH_SIZE)\n",
    "\n",
    "val_data = tf.data.Dataset.from_tensor_slices((data_test, label_test))\n",
    "val_data = val_data.batch(BATCH_SIZE)"
   ]
  },
  {
   "attachments": {},
   "cell_type": "markdown",
   "id": "49188b05",
   "metadata": {},
   "source": [
    "# MLP"
   ]
  },
  {
   "cell_type": "code",
   "execution_count": 14,
   "id": "a967a1dc",
   "metadata": {
    "scrolled": true
   },
   "outputs": [
    {
     "name": "stdout",
     "output_type": "stream",
     "text": [
      "Epoch 1/20\n",
      "2891/2891 [==============================] - 7s 2ms/step - loss: 0.0439 - binary_accuracy: 0.9863 - val_loss: 0.0061 - val_binary_accuracy: 0.9982\n",
      "Epoch 2/20\n",
      "2891/2891 [==============================] - 6s 2ms/step - loss: 0.0094 - binary_accuracy: 0.9972 - val_loss: 0.0020 - val_binary_accuracy: 0.9997\n",
      "Epoch 3/20\n",
      "2891/2891 [==============================] - 6s 2ms/step - loss: 0.0059 - binary_accuracy: 0.9981 - val_loss: 6.6551e-04 - val_binary_accuracy: 1.0000\n",
      "Epoch 4/20\n",
      "2891/2891 [==============================] - 6s 2ms/step - loss: 0.0029 - binary_accuracy: 0.9987 - val_loss: 3.1601e-04 - val_binary_accuracy: 0.9999\n",
      "Epoch 5/20\n",
      "2891/2891 [==============================] - 6s 2ms/step - loss: 0.0016 - binary_accuracy: 0.9993 - val_loss: 1.6276e-04 - val_binary_accuracy: 0.9999\n",
      "Epoch 6/20\n",
      "2891/2891 [==============================] - 6s 2ms/step - loss: 0.0011 - binary_accuracy: 0.9996 - val_loss: 2.5360e-04 - val_binary_accuracy: 0.9999\n",
      "Epoch 7/20\n",
      "2891/2891 [==============================] - 6s 2ms/step - loss: 8.5719e-04 - binary_accuracy: 0.9997 - val_loss: 5.4595e-05 - val_binary_accuracy: 1.0000\n",
      "Epoch 8/20\n",
      "2891/2891 [==============================] - 6s 2ms/step - loss: 5.8480e-04 - binary_accuracy: 0.9998 - val_loss: 7.2740e-05 - val_binary_accuracy: 0.9999\n",
      "Epoch 9/20\n",
      "2891/2891 [==============================] - 6s 2ms/step - loss: 5.0810e-04 - binary_accuracy: 0.9999 - val_loss: 1.6059e-05 - val_binary_accuracy: 1.0000\n",
      "Epoch 10/20\n",
      "2891/2891 [==============================] - 7s 2ms/step - loss: 3.5028e-04 - binary_accuracy: 0.9999 - val_loss: 1.8932e-04 - val_binary_accuracy: 0.9999\n",
      "Epoch 11/20\n",
      "2891/2891 [==============================] - 7s 2ms/step - loss: 3.6429e-04 - binary_accuracy: 0.9999 - val_loss: 2.0912e-04 - val_binary_accuracy: 0.9999\n",
      "Epoch 12/20\n",
      "2891/2891 [==============================] - 7s 2ms/step - loss: 2.6175e-04 - binary_accuracy: 0.9999 - val_loss: 2.8342e-05 - val_binary_accuracy: 1.0000\n",
      "Epoch 13/20\n",
      "2891/2891 [==============================] - 6s 2ms/step - loss: 2.4776e-04 - binary_accuracy: 0.9999 - val_loss: 3.4013e-04 - val_binary_accuracy: 0.9999\n",
      "Epoch 14/20\n",
      "2891/2891 [==============================] - 7s 2ms/step - loss: 2.9773e-04 - binary_accuracy: 0.9999 - val_loss: 2.1761e-05 - val_binary_accuracy: 1.0000\n",
      "Epoch 15/20\n",
      "2891/2891 [==============================] - 6s 2ms/step - loss: 3.1008e-04 - binary_accuracy: 0.9999 - val_loss: 1.6382e-04 - val_binary_accuracy: 0.9999\n",
      "Epoch 16/20\n",
      "2891/2891 [==============================] - 6s 2ms/step - loss: 2.3346e-04 - binary_accuracy: 0.9999 - val_loss: 6.7902e-04 - val_binary_accuracy: 0.9999\n",
      "Epoch 17/20\n",
      "2891/2891 [==============================] - 6s 2ms/step - loss: 2.5748e-04 - binary_accuracy: 0.9999 - val_loss: 7.3705e-04 - val_binary_accuracy: 0.9999\n",
      "Epoch 18/20\n",
      "2891/2891 [==============================] - 6s 2ms/step - loss: 3.2838e-04 - binary_accuracy: 0.9999 - val_loss: 9.7164e-06 - val_binary_accuracy: 1.0000\n",
      "Epoch 19/20\n",
      "2891/2891 [==============================] - 6s 2ms/step - loss: 3.0503e-04 - binary_accuracy: 0.9999 - val_loss: 5.4744e-04 - val_binary_accuracy: 0.9999\n",
      "Epoch 20/20\n",
      "2891/2891 [==============================] - 6s 2ms/step - loss: 1.9491e-04 - binary_accuracy: 1.0000 - val_loss: 2.3061e-06 - val_binary_accuracy: 1.0000\n"
     ]
    }
   ],
   "source": [
    "import tensorflow as tf\n",
    "from tensorflow.keras import layers, optimizers, losses, metrics\n",
    "\n",
    "# Define the model\n",
    "model = tf.keras.models.Sequential([\n",
    "    \n",
    "    layers.Flatten(input_shape=data_train.shape[-2:]),\n",
    "    layers.Dense(16, activation='relu'),\n",
    "    layers.Dense(16, activation='relu'),\n",
    "    layers.Dense(1, activation='sigmoid')\n",
    "])\n",
    "\n",
    "# Compile the model\n",
    "model.compile(optimizer=optimizers.RMSprop(learning_rate=0.001),\n",
    "              loss=losses.binary_crossentropy,\n",
    "              metrics=[metrics.binary_accuracy])\n",
    "\n",
    "# Train the model\n",
    "history = model.fit(train_data,\n",
    "                    epochs=20,\n",
    "                    batch_size=BATCH_SIZE,\n",
    "                    validation_data=val_data,\n",
    "                    verbose=1)\n",
    "\n",
    "# # Generate a single prediction\n",
    "# sample = data_test[0]  # Example: Take the first sample from the test data\n",
    "# sample = sample.reshape(1, *sample.shape)  # Reshape the sample to match the model input shape\n",
    "# prediction = model.predict(sample)\n",
    "\n",
    "# print(prediction)"
   ]
  },
  {
   "cell_type": "code",
   "execution_count": 59,
   "id": "80807078",
   "metadata": {
    "scrolled": false
   },
   "outputs": [
    {
     "data": {
      "image/png": "[encoded data removed]",
      "text/plain": [
       "<Figure size 640x480 with 1 Axes>"
      ]
     },
     "metadata": {},
     "output_type": "display_data"
    }
   ],
   "source": [
    "import matplotlib.pyplot as plt\n",
    "\n",
    "history_dict = history.history\n",
    "loss = history_dict['loss']\n",
    "val_loss = history_dict['val_loss']\n",
    "\n",
    "epochs = range(1, len(loss) + 1)\n",
    "\n",
    "plt.plot(epochs, loss, 'b-o', label='Training loss',markersize=5)  # ‘bo’는 파란색 점을 의미합니다.\n",
    "plt.plot(epochs, val_loss, 'r-o', label='Validation loss',markersize=5) # ‘b’는 파란색 실선을 의미합니다.\n",
    "plt.title('Training and validation loss')\n",
    "plt.xlabel('Epochs')\n",
    "plt.ylabel('Loss')\n",
    "plt.legend()\n",
    "\n",
    "plt.show()"
   ]
  },
  {
   "attachments": {},
   "cell_type": "markdown",
   "id": "611434c9",
   "metadata": {},
   "source": [
    "# 모델 저장"
   ]
  },
  {
   "cell_type": "code",
   "execution_count": 106,
   "id": "4731a8ca",
   "metadata": {
    "scrolled": true
   },
   "outputs": [
    {
     "name": "stdout",
     "output_type": "stream",
     "text": [
      "1987/1987 [==============================] - 3s 2ms/step\n",
      "Confusion Matrix:\n",
      "[[58468     0]\n",
      " [    0  5114]]\n",
      "Classification Report:\n",
      "              precision    recall  f1-score   support\n",
      "\n",
      "         0.0       1.00      1.00      1.00     58468\n",
      "         1.0       1.00      1.00      1.00      5114\n",
      "\n",
      "    accuracy                           1.00     63582\n",
      "   macro avg       1.00      1.00      1.00     63582\n",
      "weighted avg       1.00      1.00      1.00     63582\n",
      "\n"
     ]
    }
   ],
   "source": [
    "import numpy as np\n",
    "from sklearn.metrics import confusion_matrix, classification_report\n",
    "predictions= np.round(model.predict(data_test)).flatten()\n",
    "confusion = confusion_matrix(label_test, predictions)\n",
    "print(\"Confusion Matrix:\")\n",
    "print(confusion)\n",
    "\n",
    "# Generate classification report\n",
    "classification = classification_report(label_test, predictions)\n",
    "print(\"Classification Report:\")\n",
    "print(classification)"
   ]
  },
  {
   "cell_type": "code",
   "execution_count": 124,
   "id": "23bbf282",
   "metadata": {},
   "outputs": [
    {
     "data": {
      "image/png": "[encoded data removed]",
      "text/plain": [
       "<Figure size 640x480 with 2 Axes>"
      ]
     },
     "metadata": {},
     "output_type": "display_data"
    }
   ],
   "source": [
    "import seaborn as sns \n",
    "group_names = ['비주묘 예측성공','주묘 예측실패','비주묘 예측실패','주묘 예측성공']\n",
    "group_counts = ['{0:0.0f}'.format(value) for value in\n",
    "                confusion.flatten()]\n",
    "group_percentages = ['{0:.2%}'.format(value) for value in\n",
    "                     confusion.flatten()/np.sum(confusion)]\n",
    "labels = [f\"{v1} \\n\\n{v2}건 \" for v1, v2 in\n",
    "          zip(group_names,group_counts)]\n",
    "labels = np.asarray(labels).reshape(2,2)\n",
    "sns.heatmap(confusion, annot=labels, fmt=\"\", cmap='Blues',linewidths=1, linecolor='skyblue')\n",
    "plt.rcParams['font.family'] = 'NanumGothic'\n",
    "plt.rcParams['font.weight'] = 'bold'\n",
    "plt.rcParams['font.size'] =10\n",
    "plt.show()"
   ]
  },
  {
   "cell_type": "code",
   "execution_count": 125,
   "id": "04735996",
   "metadata": {},
   "outputs": [
    {
     "name": "stdout",
     "output_type": "stream",
     "text": [
      "CSI: 1.000\n"
     ]
    }
   ],
   "source": [
    "print(f'CSI: {confusion[1][1]/(confusion[1][0]+confusion[1][1]+confusion[0][1]):.3f}')"
   ]
  },
  {
   "cell_type": "code",
   "execution_count": 126,
   "id": "c013dece",
   "metadata": {},
   "outputs": [
    {
     "name": "stdout",
     "output_type": "stream",
     "text": [
      "7948/7948 [==============================] - 14s 2ms/step\n",
      "Confusion Matrix:\n",
      "[[223338      0]\n",
      " [     0  30987]]\n",
      "Classification Report:\n",
      "              precision    recall  f1-score   support\n",
      "\n",
      "         0.0       1.00      1.00      1.00    223338\n",
      "         1.0       1.00      1.00      1.00     30987\n",
      "\n",
      "    accuracy                           1.00    254325\n",
      "   macro avg       1.00      1.00      1.00    254325\n",
      "weighted avg       1.00      1.00      1.00    254325\n",
      "\n"
     ]
    }
   ],
   "source": [
    "import numpy as np\n",
    "from sklearn.metrics import confusion_matrix, classification_report\n",
    "predictions= np.round(model.predict(data_train)).flatten()\n",
    "confusion = confusion_matrix(label_train, predictions)\n",
    "print(\"Confusion Matrix:\")\n",
    "print(confusion)\n",
    "\n",
    "# Generate classification report\n",
    "classification = classification_report(label_train, predictions)\n",
    "print(\"Classification Report:\")\n",
    "print(classification)"
   ]
  },
  {
   "cell_type": "code",
   "execution_count": 127,
   "id": "6922e63a",
   "metadata": {},
   "outputs": [
    {
     "data": {
      "image/png": "[encoded data removed]",
      "text/plain": [
       "<Figure size 640x480 with 2 Axes>"
      ]
     },
     "metadata": {},
     "output_type": "display_data"
    },
    {
     "name": "stdout",
     "output_type": "stream",
     "text": [
      "CSI: 1.000\n"
     ]
    }
   ],
   "source": [
    "import seaborn as sns \n",
    "group_names = ['비주묘 예측성공','주묘 예측실패','비주묘 예측실패','주묘 예측성공']\n",
    "group_counts = ['{0:0.0f}'.format(value) for value in\n",
    "                confusion.flatten()]\n",
    "group_percentages = ['{0:.2%}'.format(value) for value in\n",
    "                     confusion.flatten()/np.sum(confusion)]\n",
    "labels = [f\"{v1} \\n\\n{v2}건 \" for v1, v2 in\n",
    "          zip(group_names,group_counts)]\n",
    "labels = np.asarray(labels).reshape(2,2)\n",
    "sns.heatmap(confusion, annot=labels, fmt=\"\", cmap='Blues',linewidths=1, linecolor='skyblue')\n",
    "plt.rcParams['font.family'] = 'NanumGothic'\n",
    "plt.rcParams['font.weight'] = 'bold'\n",
    "plt.rcParams['font.size'] =10\n",
    "plt.show()\n",
    "\n",
    "print(f'CSI: {confusion[1][1]/(confusion[1][0]+confusion[1][1]+confusion[0][1]):.3f}')"
   ]
  },
  {
   "cell_type": "code",
   "execution_count": 32,
   "id": "37869953",
   "metadata": {},
   "outputs": [
    {
     "name": "stdout",
     "output_type": "stream",
     "text": [
      "Keras weights file (<HDF5 file \"variables.h5\" (mode r+)>) saving:\n",
      "...layers\\dense\n",
      "......vars\n",
      ".........0\n",
      ".........1\n",
      "...layers\\dense_1\n",
      "......vars\n",
      ".........0\n",
      ".........1\n",
      "...layers\\dense_2\n",
      "......vars\n",
      ".........0\n",
      ".........1\n",
      "...layers\\flatten\n",
      "......vars\n",
      "...metrics\\mean\n",
      "......vars\n",
      ".........0\n",
      ".........1\n",
      "...metrics\\mean_metric_wrapper\n",
      "......vars\n",
      ".........0\n",
      ".........1\n",
      "...optimizer\n",
      "......vars\n",
      ".........0\n",
      ".........1\n",
      ".........2\n",
      ".........3\n",
      ".........4\n",
      ".........5\n",
      ".........6\n",
      "...vars\n",
      "Keras model archive saving:\n",
      "File Name                                             Modified             Size\n",
      "config.json                                    2023-06-08 16:23:31         2776\n",
      "metadata.json                                  2023-06-08 16:23:31           64\n",
      "variables.h5                                   2023-06-08 16:23:31        85872\n"
     ]
    }
   ],
   "source": [
    "# 모델을 피클 파일로 저장합니다.\n",
    "model.save('./MLP_Model.h5')\n",
    "\n",
    "\n",
    "import pickle\n",
    "filename = \"./MLP_Model.pkl\"\n",
    "with open(filename, \"wb\") as f:\n",
    "    pickle.dump(model, f)\n",
    "    \n",
    "\n",
    "\n",
    "# 저장된 피클 파일로부터 모델을 로드합니다.\n",
    "# filename = \"trained_model.pkl\"\n",
    "# with open(filename, \"rb\") as f:\n",
    "#     loaded_model = pickle.load(f)\n",
    "\n",
    "# # 로드된 모델을 사용하여 예측 등을 수행합니다.\n",
    "# prediction = loaded_model.predict(input_data)"
   ]
  }
 ],
 "metadata": {
  "colab": {
   "provenance": []
  },
  "kernelspec": {
   "display_name": "Python 3 (ipykernel)",
   "language": "python",
   "name": "python3"
  },
  "language_info": {
   "codemirror_mode": {
    "name": "ipython",
    "version": 3
   },
   "file_extension": ".py",
   "mimetype": "text/x-python",
   "name": "python",
   "nbconvert_exporter": "python",
   "pygments_lexer": "ipython3",
   "version": "3.11.2"
  },
  "toc": {
   "base_numbering": 1,
   "nav_menu": {},
   "number_sections": true,
   "sideBar": true,
   "skip_h1_title": false,
   "title_cell": "Table of Contents",
   "title_sidebar": "Contents",
   "toc_cell": false,
   "toc_position": {
    "height": "541.594px",
    "left": "28px",
    "top": "135px",
    "width": "384px"
   },
   "toc_section_display": true,
   "toc_window_display": false
  }
 },
 "nbformat": 4,
 "nbformat_minor": 5
}
