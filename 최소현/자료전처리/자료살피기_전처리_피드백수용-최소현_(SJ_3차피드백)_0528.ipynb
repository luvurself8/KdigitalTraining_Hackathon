{
 "cells": [
  {
   "cell_type": "code",
   "execution_count": 1,
   "id": "59d05c45",
   "metadata": {},
   "outputs": [],
   "source": [
    "import numpy as np\n",
    "import pandas as pd\n",
    "import warnings\n",
    "warnings.filterwarnings('ignore')"
   ]
  },
  {
   "cell_type": "markdown",
   "id": "40649cba",
   "metadata": {},
   "source": [
    "# khoa_buoy_test : 수정 완료"
   ]
  },
  {
   "cell_type": "code",
   "execution_count": 2,
   "id": "bd262296",
   "metadata": {
    "scrolled": true
   },
   "outputs": [
    {
     "name": "stdout",
     "output_type": "stream",
     "text": [
      "(464832, 5)\n"
     ]
    },
    {
     "data": {
      "text/html": [
       "<div>\n",
       "<style scoped>\n",
       "    .dataframe tbody tr th:only-of-type {\n",
       "        vertical-align: middle;\n",
       "    }\n",
       "\n",
       "    .dataframe tbody tr th {\n",
       "        vertical-align: top;\n",
       "    }\n",
       "\n",
       "    .dataframe thead th {\n",
       "        text-align: right;\n",
       "    }\n",
       "</style>\n",
       "<table border=\"1\" class=\"dataframe\">\n",
       "  <thead>\n",
       "    <tr style=\"text-align: right;\">\n",
       "      <th></th>\n",
       "      <th>시간</th>\n",
       "      <th>지점명</th>\n",
       "      <th>유속</th>\n",
       "      <th>유향</th>\n",
       "      <th>우행</th>\n",
       "    </tr>\n",
       "  </thead>\n",
       "  <tbody>\n",
       "    <tr>\n",
       "      <th>0</th>\n",
       "      <td>202207010000</td>\n",
       "      <td>SongJeong</td>\n",
       "      <td>102.7</td>\n",
       "      <td>NE</td>\n",
       "      <td>52.0</td>\n",
       "    </tr>\n",
       "    <tr>\n",
       "      <th>1</th>\n",
       "      <td>202207010005</td>\n",
       "      <td>SongJeong</td>\n",
       "      <td>101.6</td>\n",
       "      <td>NE</td>\n",
       "      <td>52.0</td>\n",
       "    </tr>\n",
       "    <tr>\n",
       "      <th>2</th>\n",
       "      <td>202207010010</td>\n",
       "      <td>SongJeong</td>\n",
       "      <td>98.9</td>\n",
       "      <td>NE</td>\n",
       "      <td>51.0</td>\n",
       "    </tr>\n",
       "    <tr>\n",
       "      <th>3</th>\n",
       "      <td>202207010015</td>\n",
       "      <td>SongJeong</td>\n",
       "      <td>98.3</td>\n",
       "      <td>NE</td>\n",
       "      <td>53.0</td>\n",
       "    </tr>\n",
       "    <tr>\n",
       "      <th>4</th>\n",
       "      <td>202207010020</td>\n",
       "      <td>SongJeong</td>\n",
       "      <td>96.3</td>\n",
       "      <td>NE</td>\n",
       "      <td>53.0</td>\n",
       "    </tr>\n",
       "  </tbody>\n",
       "</table>\n",
       "</div>"
      ],
      "text/plain": [
       "             시간        지점명     유속  유향    우행\n",
       "0  202207010000  SongJeong  102.7  NE  52.0\n",
       "1  202207010005  SongJeong  101.6  NE  52.0\n",
       "2  202207010010  SongJeong   98.9  NE  51.0\n",
       "3  202207010015  SongJeong   98.3  NE  53.0\n",
       "4  202207010020  SongJeong   96.3  NE  53.0"
      ]
     },
     "execution_count": 2,
     "metadata": {},
     "output_type": "execute_result"
    }
   ],
   "source": [
    "khoa_buoy_test = pd.read_csv(\"../data/weather_data/processed/khoa_buoy_test(수정).csv\",encoding='cp949').drop('Unnamed: 0',axis=1)\n",
    "print(khoa_buoy_test.shape)\n",
    "khoa_buoy_test.head()"
   ]
  },
  {
   "cell_type": "code",
   "execution_count": 3,
   "id": "0525f081",
   "metadata": {},
   "outputs": [
    {
     "data": {
      "text/plain": [
       "array(['NE', '-99.9', 'ENE', 'NNE', 'N', 'NNW', 'WSW', 'NW', 'W', 'WNW',\n",
       "       'SW', 'SSE', 'SE', 'S', 'E', 'ESE', 'SSW'], dtype=object)"
      ]
     },
     "execution_count": 3,
     "metadata": {},
     "output_type": "execute_result"
    }
   ],
   "source": [
    "khoa_buoy_test['유향'].unique()"
   ]
  },
  {
   "cell_type": "code",
   "execution_count": 4,
   "id": "8a28bd24",
   "metadata": {},
   "outputs": [
    {
     "name": "stdout",
     "output_type": "stream",
     "text": [
      "<class 'pandas.core.frame.DataFrame'>\n",
      "RangeIndex: 464832 entries, 0 to 464831\n",
      "Data columns (total 5 columns):\n",
      " #   Column  Non-Null Count   Dtype  \n",
      "---  ------  --------------   -----  \n",
      " 0   시간      464832 non-null  int64  \n",
      " 1   지점명     464832 non-null  object \n",
      " 2   유속      464832 non-null  float64\n",
      " 3   유향      464832 non-null  object \n",
      " 4   우행      464832 non-null  float64\n",
      "dtypes: float64(2), int64(1), object(2)\n",
      "memory usage: 17.7+ MB\n"
     ]
    }
   ],
   "source": [
    "khoa_buoy_test.info()"
   ]
  },
  {
   "cell_type": "code",
   "execution_count": 5,
   "id": "63d85b61",
   "metadata": {},
   "outputs": [
    {
     "data": {
      "text/html": [
       "<div>\n",
       "<style scoped>\n",
       "    .dataframe tbody tr th:only-of-type {\n",
       "        vertical-align: middle;\n",
       "    }\n",
       "\n",
       "    .dataframe tbody tr th {\n",
       "        vertical-align: top;\n",
       "    }\n",
       "\n",
       "    .dataframe thead th {\n",
       "        text-align: right;\n",
       "    }\n",
       "</style>\n",
       "<table border=\"1\" class=\"dataframe\">\n",
       "  <thead>\n",
       "    <tr style=\"text-align: right;\">\n",
       "      <th></th>\n",
       "      <th>시간</th>\n",
       "      <th>유속</th>\n",
       "      <th>우행</th>\n",
       "    </tr>\n",
       "  </thead>\n",
       "  <tbody>\n",
       "    <tr>\n",
       "      <th>count</th>\n",
       "      <td>4.648320e+05</td>\n",
       "      <td>464832.000000</td>\n",
       "      <td>464832.000000</td>\n",
       "    </tr>\n",
       "    <tr>\n",
       "      <th>mean</th>\n",
       "      <td>2.022389e+11</td>\n",
       "      <td>-0.463587</td>\n",
       "      <td>108.367131</td>\n",
       "    </tr>\n",
       "    <tr>\n",
       "      <th>std</th>\n",
       "      <td>4.299984e+07</td>\n",
       "      <td>48.590187</td>\n",
       "      <td>128.759386</td>\n",
       "    </tr>\n",
       "    <tr>\n",
       "      <th>min</th>\n",
       "      <td>2.022070e+11</td>\n",
       "      <td>-99.900000</td>\n",
       "      <td>-99.900000</td>\n",
       "    </tr>\n",
       "    <tr>\n",
       "      <th>25%</th>\n",
       "      <td>2.022091e+11</td>\n",
       "      <td>3.900000</td>\n",
       "      <td>45.000000</td>\n",
       "    </tr>\n",
       "    <tr>\n",
       "      <th>50%</th>\n",
       "      <td>2.022111e+11</td>\n",
       "      <td>12.200000</td>\n",
       "      <td>97.000000</td>\n",
       "    </tr>\n",
       "    <tr>\n",
       "      <th>75%</th>\n",
       "      <td>2.023012e+11</td>\n",
       "      <td>23.000000</td>\n",
       "      <td>230.000000</td>\n",
       "    </tr>\n",
       "    <tr>\n",
       "      <th>max</th>\n",
       "      <td>2.023033e+11</td>\n",
       "      <td>160.700000</td>\n",
       "      <td>376.000000</td>\n",
       "    </tr>\n",
       "  </tbody>\n",
       "</table>\n",
       "</div>"
      ],
      "text/plain": [
       "                 시간             유속             우행\n",
       "count  4.648320e+05  464832.000000  464832.000000\n",
       "mean   2.022389e+11      -0.463587     108.367131\n",
       "std    4.299984e+07      48.590187     128.759386\n",
       "min    2.022070e+11     -99.900000     -99.900000\n",
       "25%    2.022091e+11       3.900000      45.000000\n",
       "50%    2.022111e+11      12.200000      97.000000\n",
       "75%    2.023012e+11      23.000000     230.000000\n",
       "max    2.023033e+11     160.700000     376.000000"
      ]
     },
     "execution_count": 5,
     "metadata": {},
     "output_type": "execute_result"
    }
   ],
   "source": [
    "khoa_buoy_test.describe()"
   ]
  },
  {
   "cell_type": "code",
   "execution_count": 6,
   "id": "65ced1aa",
   "metadata": {},
   "outputs": [
    {
     "data": {
      "text/plain": [
       "250"
      ]
     },
     "execution_count": 6,
     "metadata": {},
     "output_type": "execute_result"
    }
   ],
   "source": [
    "np.sum(khoa_buoy_test['우행']>360)"
   ]
  },
  {
   "cell_type": "code",
   "execution_count": 7,
   "id": "b35bb0a7",
   "metadata": {},
   "outputs": [
    {
     "data": {
      "text/plain": [
       "array([362., 366., 365., 361., 367., 368., 364., 369., 376., 363., 370.])"
      ]
     },
     "execution_count": 7,
     "metadata": {},
     "output_type": "execute_result"
    }
   ],
   "source": [
    "khoa_buoy_test[khoa_buoy_test['우행']>360]['우행'].unique()"
   ]
  },
  {
   "cell_type": "markdown",
   "id": "adb76bd1",
   "metadata": {},
   "source": [
    "이상치 = 유속 : -99.900000\t우행 :-99.900000"
   ]
  },
  {
   "cell_type": "code",
   "execution_count": 8,
   "id": "c87b6222",
   "metadata": {},
   "outputs": [
    {
     "data": {
      "text/plain": [
       "array(['SongJeong', 'Haeundae'], dtype=object)"
      ]
     },
     "execution_count": 8,
     "metadata": {},
     "output_type": "execute_result"
    }
   ],
   "source": [
    "khoa_buoy_test['지점명'].unique()"
   ]
  },
  {
   "cell_type": "markdown",
   "id": "8cdc1187",
   "metadata": {},
   "source": [
    "## 중복확인"
   ]
  },
  {
   "cell_type": "code",
   "execution_count": 9,
   "id": "96d35a6c",
   "metadata": {},
   "outputs": [
    {
     "data": {
      "text/plain": [
       "시간     0\n",
       "지점명    0\n",
       "유속     0\n",
       "유향     0\n",
       "우행     0\n",
       "dtype: int64"
      ]
     },
     "execution_count": 9,
     "metadata": {},
     "output_type": "execute_result"
    }
   ],
   "source": [
    "khoa_buoy_test[khoa_buoy_test.duplicated()==True].count()"
   ]
  },
  {
   "cell_type": "markdown",
   "id": "dac9ab15",
   "metadata": {},
   "source": [
    "## 시간데이터프레임"
   ]
  },
  {
   "cell_type": "code",
   "execution_count": 10,
   "id": "09f1822c",
   "metadata": {},
   "outputs": [
    {
     "data": {
      "text/plain": [
       "0        2022-07-01 00:00:00\n",
       "1        2022-07-01 00:05:00\n",
       "2        2022-07-01 00:10:00\n",
       "3        2022-07-01 00:15:00\n",
       "4        2022-07-01 00:20:00\n",
       "                 ...        \n",
       "464827   2023-03-26 23:55:00\n",
       "464828   2023-03-26 23:56:00\n",
       "464829   2023-03-26 23:57:00\n",
       "464830   2023-03-26 23:58:00\n",
       "464831   2023-03-26 23:59:00\n",
       "Name: 시간, Length: 464832, dtype: datetime64[ns]"
      ]
     },
     "execution_count": 10,
     "metadata": {},
     "output_type": "execute_result"
    }
   ],
   "source": [
    "khoa_buoy_test['시간']=pd.to_datetime(khoa_buoy_test['시간'], format='%Y%m%d%H%M')\n",
    "khoa_buoy_test['시간']"
   ]
  },
  {
   "cell_type": "markdown",
   "id": "6d18f8dc",
   "metadata": {},
   "source": [
    "## 지점분리"
   ]
  },
  {
   "cell_type": "code",
   "execution_count": 11,
   "id": "1c6549d1",
   "metadata": {},
   "outputs": [],
   "source": [
    "khoa_buoy_test_SongJeong = khoa_buoy_test[khoa_buoy_test['지점명']=='SongJeong']"
   ]
  },
  {
   "cell_type": "code",
   "execution_count": 12,
   "id": "7d59aae6",
   "metadata": {},
   "outputs": [],
   "source": [
    "khoa_buoy_test_Haeundae =khoa_buoy_test[khoa_buoy_test['지점명']=='Haeundae'].reset_index(drop=True)"
   ]
  },
  {
   "cell_type": "code",
   "execution_count": 13,
   "id": "1eb412ab",
   "metadata": {
    "scrolled": true
   },
   "outputs": [
    {
     "data": {
      "text/html": [
       "<div>\n",
       "<style scoped>\n",
       "    .dataframe tbody tr th:only-of-type {\n",
       "        vertical-align: middle;\n",
       "    }\n",
       "\n",
       "    .dataframe tbody tr th {\n",
       "        vertical-align: top;\n",
       "    }\n",
       "\n",
       "    .dataframe thead th {\n",
       "        text-align: right;\n",
       "    }\n",
       "</style>\n",
       "<table border=\"1\" class=\"dataframe\">\n",
       "  <thead>\n",
       "    <tr style=\"text-align: right;\">\n",
       "      <th></th>\n",
       "      <th>시간</th>\n",
       "      <th>지점명</th>\n",
       "      <th>유속</th>\n",
       "      <th>유향</th>\n",
       "      <th>우행</th>\n",
       "    </tr>\n",
       "  </thead>\n",
       "  <tbody>\n",
       "    <tr>\n",
       "      <th>0</th>\n",
       "      <td>2022-07-01 00:00:00</td>\n",
       "      <td>SongJeong</td>\n",
       "      <td>102.7</td>\n",
       "      <td>NE</td>\n",
       "      <td>52.0</td>\n",
       "    </tr>\n",
       "    <tr>\n",
       "      <th>1</th>\n",
       "      <td>2022-07-01 00:05:00</td>\n",
       "      <td>SongJeong</td>\n",
       "      <td>101.6</td>\n",
       "      <td>NE</td>\n",
       "      <td>52.0</td>\n",
       "    </tr>\n",
       "    <tr>\n",
       "      <th>2</th>\n",
       "      <td>2022-07-01 00:10:00</td>\n",
       "      <td>SongJeong</td>\n",
       "      <td>98.9</td>\n",
       "      <td>NE</td>\n",
       "      <td>51.0</td>\n",
       "    </tr>\n",
       "    <tr>\n",
       "      <th>3</th>\n",
       "      <td>2022-07-01 00:15:00</td>\n",
       "      <td>SongJeong</td>\n",
       "      <td>98.3</td>\n",
       "      <td>NE</td>\n",
       "      <td>53.0</td>\n",
       "    </tr>\n",
       "    <tr>\n",
       "      <th>4</th>\n",
       "      <td>2022-07-01 00:20:00</td>\n",
       "      <td>SongJeong</td>\n",
       "      <td>96.3</td>\n",
       "      <td>NE</td>\n",
       "      <td>53.0</td>\n",
       "    </tr>\n",
       "    <tr>\n",
       "      <th>...</th>\n",
       "      <td>...</td>\n",
       "      <td>...</td>\n",
       "      <td>...</td>\n",
       "      <td>...</td>\n",
       "      <td>...</td>\n",
       "    </tr>\n",
       "    <tr>\n",
       "      <th>342427</th>\n",
       "      <td>2023-03-26 23:35:00</td>\n",
       "      <td>SongJeong</td>\n",
       "      <td>16.0</td>\n",
       "      <td>NE</td>\n",
       "      <td>35.0</td>\n",
       "    </tr>\n",
       "    <tr>\n",
       "      <th>342428</th>\n",
       "      <td>2023-03-26 23:40:00</td>\n",
       "      <td>SongJeong</td>\n",
       "      <td>20.0</td>\n",
       "      <td>NE</td>\n",
       "      <td>44.0</td>\n",
       "    </tr>\n",
       "    <tr>\n",
       "      <th>342429</th>\n",
       "      <td>2023-03-26 23:45:00</td>\n",
       "      <td>SongJeong</td>\n",
       "      <td>23.9</td>\n",
       "      <td>NE</td>\n",
       "      <td>52.0</td>\n",
       "    </tr>\n",
       "    <tr>\n",
       "      <th>342430</th>\n",
       "      <td>2023-03-26 23:50:00</td>\n",
       "      <td>SongJeong</td>\n",
       "      <td>24.7</td>\n",
       "      <td>NE</td>\n",
       "      <td>48.0</td>\n",
       "    </tr>\n",
       "    <tr>\n",
       "      <th>342431</th>\n",
       "      <td>2023-03-26 23:55:00</td>\n",
       "      <td>SongJeong</td>\n",
       "      <td>21.9</td>\n",
       "      <td>NE</td>\n",
       "      <td>47.0</td>\n",
       "    </tr>\n",
       "  </tbody>\n",
       "</table>\n",
       "<p>77472 rows × 5 columns</p>\n",
       "</div>"
      ],
      "text/plain": [
       "                        시간        지점명     유속  유향    우행\n",
       "0      2022-07-01 00:00:00  SongJeong  102.7  NE  52.0\n",
       "1      2022-07-01 00:05:00  SongJeong  101.6  NE  52.0\n",
       "2      2022-07-01 00:10:00  SongJeong   98.9  NE  51.0\n",
       "3      2022-07-01 00:15:00  SongJeong   98.3  NE  53.0\n",
       "4      2022-07-01 00:20:00  SongJeong   96.3  NE  53.0\n",
       "...                    ...        ...    ...  ..   ...\n",
       "342427 2023-03-26 23:35:00  SongJeong   16.0  NE  35.0\n",
       "342428 2023-03-26 23:40:00  SongJeong   20.0  NE  44.0\n",
       "342429 2023-03-26 23:45:00  SongJeong   23.9  NE  52.0\n",
       "342430 2023-03-26 23:50:00  SongJeong   24.7  NE  48.0\n",
       "342431 2023-03-26 23:55:00  SongJeong   21.9  NE  47.0\n",
       "\n",
       "[77472 rows x 5 columns]"
      ]
     },
     "execution_count": 13,
     "metadata": {},
     "output_type": "execute_result"
    }
   ],
   "source": [
    "khoa_buoy_test_SongJeong "
   ]
  },
  {
   "cell_type": "code",
   "execution_count": 14,
   "id": "0baea045",
   "metadata": {},
   "outputs": [
    {
     "data": {
      "text/html": [
       "<div>\n",
       "<style scoped>\n",
       "    .dataframe tbody tr th:only-of-type {\n",
       "        vertical-align: middle;\n",
       "    }\n",
       "\n",
       "    .dataframe tbody tr th {\n",
       "        vertical-align: top;\n",
       "    }\n",
       "\n",
       "    .dataframe thead th {\n",
       "        text-align: right;\n",
       "    }\n",
       "</style>\n",
       "<table border=\"1\" class=\"dataframe\">\n",
       "  <thead>\n",
       "    <tr style=\"text-align: right;\">\n",
       "      <th></th>\n",
       "      <th>시간</th>\n",
       "      <th>지점명</th>\n",
       "      <th>유속</th>\n",
       "      <th>유향</th>\n",
       "      <th>우행</th>\n",
       "    </tr>\n",
       "  </thead>\n",
       "  <tbody>\n",
       "    <tr>\n",
       "      <th>0</th>\n",
       "      <td>2022-07-01 00:00:00</td>\n",
       "      <td>Haeundae</td>\n",
       "      <td>32.7</td>\n",
       "      <td>E</td>\n",
       "      <td>86.0</td>\n",
       "    </tr>\n",
       "    <tr>\n",
       "      <th>1</th>\n",
       "      <td>2022-07-01 00:01:00</td>\n",
       "      <td>Haeundae</td>\n",
       "      <td>-99.9</td>\n",
       "      <td>-99.9</td>\n",
       "      <td>-99.9</td>\n",
       "    </tr>\n",
       "    <tr>\n",
       "      <th>2</th>\n",
       "      <td>2022-07-01 00:02:00</td>\n",
       "      <td>Haeundae</td>\n",
       "      <td>37.0</td>\n",
       "      <td>E</td>\n",
       "      <td>86.0</td>\n",
       "    </tr>\n",
       "    <tr>\n",
       "      <th>3</th>\n",
       "      <td>2022-07-01 00:03:00</td>\n",
       "      <td>Haeundae</td>\n",
       "      <td>36.5</td>\n",
       "      <td>E</td>\n",
       "      <td>88.0</td>\n",
       "    </tr>\n",
       "    <tr>\n",
       "      <th>4</th>\n",
       "      <td>2022-07-01 00:04:00</td>\n",
       "      <td>Haeundae</td>\n",
       "      <td>36.9</td>\n",
       "      <td>E</td>\n",
       "      <td>88.0</td>\n",
       "    </tr>\n",
       "    <tr>\n",
       "      <th>...</th>\n",
       "      <td>...</td>\n",
       "      <td>...</td>\n",
       "      <td>...</td>\n",
       "      <td>...</td>\n",
       "      <td>...</td>\n",
       "    </tr>\n",
       "    <tr>\n",
       "      <th>387355</th>\n",
       "      <td>2023-03-26 23:55:00</td>\n",
       "      <td>Haeundae</td>\n",
       "      <td>-99.9</td>\n",
       "      <td>-99.9</td>\n",
       "      <td>-99.9</td>\n",
       "    </tr>\n",
       "    <tr>\n",
       "      <th>387356</th>\n",
       "      <td>2023-03-26 23:56:00</td>\n",
       "      <td>Haeundae</td>\n",
       "      <td>23.6</td>\n",
       "      <td>SE</td>\n",
       "      <td>146.0</td>\n",
       "    </tr>\n",
       "    <tr>\n",
       "      <th>387357</th>\n",
       "      <td>2023-03-26 23:57:00</td>\n",
       "      <td>Haeundae</td>\n",
       "      <td>23.2</td>\n",
       "      <td>SE</td>\n",
       "      <td>143.0</td>\n",
       "    </tr>\n",
       "    <tr>\n",
       "      <th>387358</th>\n",
       "      <td>2023-03-26 23:58:00</td>\n",
       "      <td>Haeundae</td>\n",
       "      <td>23.4</td>\n",
       "      <td>SE</td>\n",
       "      <td>145.0</td>\n",
       "    </tr>\n",
       "    <tr>\n",
       "      <th>387359</th>\n",
       "      <td>2023-03-26 23:59:00</td>\n",
       "      <td>Haeundae</td>\n",
       "      <td>23.9</td>\n",
       "      <td>SE</td>\n",
       "      <td>143.0</td>\n",
       "    </tr>\n",
       "  </tbody>\n",
       "</table>\n",
       "<p>387360 rows × 5 columns</p>\n",
       "</div>"
      ],
      "text/plain": [
       "                        시간       지점명    유속     유향     우행\n",
       "0      2022-07-01 00:00:00  Haeundae  32.7      E   86.0\n",
       "1      2022-07-01 00:01:00  Haeundae -99.9  -99.9  -99.9\n",
       "2      2022-07-01 00:02:00  Haeundae  37.0      E   86.0\n",
       "3      2022-07-01 00:03:00  Haeundae  36.5      E   88.0\n",
       "4      2022-07-01 00:04:00  Haeundae  36.9      E   88.0\n",
       "...                    ...       ...   ...    ...    ...\n",
       "387355 2023-03-26 23:55:00  Haeundae -99.9  -99.9  -99.9\n",
       "387356 2023-03-26 23:56:00  Haeundae  23.6     SE  146.0\n",
       "387357 2023-03-26 23:57:00  Haeundae  23.2     SE  143.0\n",
       "387358 2023-03-26 23:58:00  Haeundae  23.4     SE  145.0\n",
       "387359 2023-03-26 23:59:00  Haeundae  23.9     SE  143.0\n",
       "\n",
       "[387360 rows x 5 columns]"
      ]
     },
     "execution_count": 14,
     "metadata": {},
     "output_type": "execute_result"
    }
   ],
   "source": [
    "khoa_buoy_test_Haeundae"
   ]
  },
  {
   "cell_type": "markdown",
   "id": "898a63e6",
   "metadata": {},
   "source": [
    "## 시간 결측치 확인"
   ]
  },
  {
   "cell_type": "markdown",
   "id": "178a72b6",
   "metadata": {},
   "source": [
    "### 지점간 시간 결측치 확인"
   ]
  },
  {
   "cell_type": "markdown",
   "id": "14a35f8a",
   "metadata": {},
   "source": [
    "- 해운대 : 1분단위 , 시간 결측치 없음"
   ]
  },
  {
   "cell_type": "code",
   "execution_count": 15,
   "id": "3fbaea24",
   "metadata": {},
   "outputs": [
    {
     "name": "stdout",
     "output_type": "stream",
     "text": [
      "387360\n",
      "시간    387360\n",
      "dtype: int64\n"
     ]
    }
   ],
   "source": [
    "time = pd.date_range(start='2022-07-01 00:00:00', end='2023-03-26 23:59:00', freq='1min')\n",
    "time_range = pd.DataFrame(time, columns=['시간'])\n",
    "print(khoa_buoy_test_Haeundae['시간'].count())\n",
    "print(np.sum(time_range.isin(khoa_buoy_test_Haeundae['시간'])))"
   ]
  },
  {
   "cell_type": "markdown",
   "id": "cc9bdae6",
   "metadata": {},
   "source": [
    "- 송정 : 5분단위 , 시간 결측치 없음"
   ]
  },
  {
   "cell_type": "code",
   "execution_count": 16,
   "id": "0f3c4556",
   "metadata": {
    "scrolled": true
   },
   "outputs": [],
   "source": [
    "khoa_buoy_test_SongJeong= khoa_buoy_test_SongJeong.reset_index(drop=True)"
   ]
  },
  {
   "cell_type": "code",
   "execution_count": 17,
   "id": "747b6f9d",
   "metadata": {},
   "outputs": [
    {
     "name": "stdout",
     "output_type": "stream",
     "text": [
      "77472\n",
      "시간    77472\n",
      "dtype: int64\n"
     ]
    }
   ],
   "source": [
    "time = pd.date_range(start='2022-07-01 00:00:00', end='2023-03-26 23:55:00', freq='5min')\n",
    "time_range = pd.DataFrame(time, columns=['시간'])\n",
    "print(khoa_buoy_test_SongJeong['시간'].count())\n",
    "print(time_range.count())"
   ]
  },
  {
   "cell_type": "markdown",
   "id": "93e9053c",
   "metadata": {},
   "source": [
    "## 시간 - 시간과 날짜 분리"
   ]
  },
  {
   "cell_type": "code",
   "execution_count": 18,
   "id": "45d78b58",
   "metadata": {},
   "outputs": [],
   "source": [
    "#df.insert(위치, 열이름, 값)"
   ]
  },
  {
   "cell_type": "code",
   "execution_count": 19,
   "id": "dae28972",
   "metadata": {},
   "outputs": [],
   "source": [
    "khoa_buoy_test_SongJeong['날짜_시간']=khoa_buoy_test_SongJeong['시간']"
   ]
  },
  {
   "cell_type": "code",
   "execution_count": 20,
   "id": "9a6c5004",
   "metadata": {},
   "outputs": [],
   "source": [
    "khoa_buoy_test_SongJeong['날짜']=khoa_buoy_test_SongJeong['날짜_시간'].apply(lambda x : str(x).split()[0])\n",
    "khoa_buoy_test_SongJeong['시간']=khoa_buoy_test_SongJeong['날짜_시간'].apply(lambda x : str(x).split()[1])\n",
    "khoa_buoy_test_SongJeong = khoa_buoy_test_SongJeong[['날짜_시간','날짜', '시간', '지점명', '유속', '유향', '우행']]"
   ]
  },
  {
   "cell_type": "code",
   "execution_count": 21,
   "id": "d3dc2f16",
   "metadata": {},
   "outputs": [],
   "source": [
    "khoa_buoy_test_Haeundae['날짜_시간']=khoa_buoy_test_Haeundae['시간']\n",
    "khoa_buoy_test_Haeundae['날짜']=khoa_buoy_test_Haeundae['날짜_시간'].apply(lambda x : str(x).split()[0])\n",
    "khoa_buoy_test_Haeundae['시간']=khoa_buoy_test_Haeundae['날짜_시간'].apply(lambda x : str(x).split()[1])\n",
    "khoa_buoy_test_Haeundae = khoa_buoy_test_Haeundae[['날짜_시간','날짜', '시간', '지점명', '유속', '유향', '우행']]\n"
   ]
  },
  {
   "cell_type": "markdown",
   "id": "5c0074a3",
   "metadata": {},
   "source": [
    "## 이상치 확인"
   ]
  },
  {
   "cell_type": "code",
   "execution_count": 22,
   "id": "1ad917ee",
   "metadata": {},
   "outputs": [
    {
     "name": "stdout",
     "output_type": "stream",
     "text": [
      "3119\n",
      "3117\n",
      "3117\n"
     ]
    }
   ],
   "source": [
    "print(np.sum(khoa_buoy_test_SongJeong['유속']==-99.9))\n",
    "print(np.sum(khoa_buoy_test_SongJeong['유향']=='-99.9'))\n",
    "print(np.sum(khoa_buoy_test_SongJeong['우행']==-99.9))"
   ]
  },
  {
   "cell_type": "code",
   "execution_count": 23,
   "id": "db20f6c9",
   "metadata": {},
   "outputs": [
    {
     "data": {
      "text/html": [
       "<div>\n",
       "<style scoped>\n",
       "    .dataframe tbody tr th:only-of-type {\n",
       "        vertical-align: middle;\n",
       "    }\n",
       "\n",
       "    .dataframe tbody tr th {\n",
       "        vertical-align: top;\n",
       "    }\n",
       "\n",
       "    .dataframe thead th {\n",
       "        text-align: right;\n",
       "    }\n",
       "</style>\n",
       "<table border=\"1\" class=\"dataframe\">\n",
       "  <thead>\n",
       "    <tr style=\"text-align: right;\">\n",
       "      <th></th>\n",
       "      <th>유속</th>\n",
       "      <th>우행</th>\n",
       "    </tr>\n",
       "  </thead>\n",
       "  <tbody>\n",
       "    <tr>\n",
       "      <th>count</th>\n",
       "      <td>74353.000000</td>\n",
       "      <td>74353.000000</td>\n",
       "    </tr>\n",
       "    <tr>\n",
       "      <th>mean</th>\n",
       "      <td>40.219082</td>\n",
       "      <td>119.747408</td>\n",
       "    </tr>\n",
       "    <tr>\n",
       "      <th>std</th>\n",
       "      <td>27.004516</td>\n",
       "      <td>95.853040</td>\n",
       "    </tr>\n",
       "    <tr>\n",
       "      <th>min</th>\n",
       "      <td>0.000000</td>\n",
       "      <td>0.000000</td>\n",
       "    </tr>\n",
       "    <tr>\n",
       "      <th>25%</th>\n",
       "      <td>17.400000</td>\n",
       "      <td>47.000000</td>\n",
       "    </tr>\n",
       "    <tr>\n",
       "      <th>50%</th>\n",
       "      <td>35.800000</td>\n",
       "      <td>59.000000</td>\n",
       "    </tr>\n",
       "    <tr>\n",
       "      <th>75%</th>\n",
       "      <td>59.000000</td>\n",
       "      <td>220.000000</td>\n",
       "    </tr>\n",
       "    <tr>\n",
       "      <th>max</th>\n",
       "      <td>149.800000</td>\n",
       "      <td>376.000000</td>\n",
       "    </tr>\n",
       "  </tbody>\n",
       "</table>\n",
       "</div>"
      ],
      "text/plain": [
       "                 유속            우행\n",
       "count  74353.000000  74353.000000\n",
       "mean      40.219082    119.747408\n",
       "std       27.004516     95.853040\n",
       "min        0.000000      0.000000\n",
       "25%       17.400000     47.000000\n",
       "50%       35.800000     59.000000\n",
       "75%       59.000000    220.000000\n",
       "max      149.800000    376.000000"
      ]
     },
     "execution_count": 23,
     "metadata": {},
     "output_type": "execute_result"
    }
   ],
   "source": [
    "khoa_buoy_test_SongJeong[khoa_buoy_test_SongJeong['유속']!=-99.9].describe()"
   ]
  },
  {
   "cell_type": "code",
   "execution_count": 24,
   "id": "7df68ac0",
   "metadata": {},
   "outputs": [
    {
     "name": "stdout",
     "output_type": "stream",
     "text": [
      "77595\n",
      "77577\n",
      "77577\n"
     ]
    }
   ],
   "source": [
    "print(np.sum(khoa_buoy_test_Haeundae['유속']==-99.9))\n",
    "print(np.sum(khoa_buoy_test_Haeundae['유향']=='-99.9'))\n",
    "print(np.sum(khoa_buoy_test_Haeundae['우행']==-99.9))"
   ]
  },
  {
   "cell_type": "code",
   "execution_count": 25,
   "id": "46528a53",
   "metadata": {},
   "outputs": [
    {
     "data": {
      "text/html": [
       "<div>\n",
       "<style scoped>\n",
       "    .dataframe tbody tr th:only-of-type {\n",
       "        vertical-align: middle;\n",
       "    }\n",
       "\n",
       "    .dataframe tbody tr th {\n",
       "        vertical-align: top;\n",
       "    }\n",
       "\n",
       "    .dataframe thead th {\n",
       "        text-align: right;\n",
       "    }\n",
       "</style>\n",
       "<table border=\"1\" class=\"dataframe\">\n",
       "  <thead>\n",
       "    <tr style=\"text-align: right;\">\n",
       "      <th></th>\n",
       "      <th>유속</th>\n",
       "      <th>우행</th>\n",
       "    </tr>\n",
       "  </thead>\n",
       "  <tbody>\n",
       "    <tr>\n",
       "      <th>count</th>\n",
       "      <td>309765.000000</td>\n",
       "      <td>309765.000000</td>\n",
       "    </tr>\n",
       "    <tr>\n",
       "      <th>mean</th>\n",
       "      <td>15.681014</td>\n",
       "      <td>159.885700</td>\n",
       "    </tr>\n",
       "    <tr>\n",
       "      <th>std</th>\n",
       "      <td>11.558005</td>\n",
       "      <td>93.206462</td>\n",
       "    </tr>\n",
       "    <tr>\n",
       "      <th>min</th>\n",
       "      <td>0.000000</td>\n",
       "      <td>0.000000</td>\n",
       "    </tr>\n",
       "    <tr>\n",
       "      <th>25%</th>\n",
       "      <td>7.100000</td>\n",
       "      <td>90.000000</td>\n",
       "    </tr>\n",
       "    <tr>\n",
       "      <th>50%</th>\n",
       "      <td>13.600000</td>\n",
       "      <td>115.000000</td>\n",
       "    </tr>\n",
       "    <tr>\n",
       "      <th>75%</th>\n",
       "      <td>21.600000</td>\n",
       "      <td>255.000000</td>\n",
       "    </tr>\n",
       "    <tr>\n",
       "      <th>max</th>\n",
       "      <td>160.700000</td>\n",
       "      <td>370.000000</td>\n",
       "    </tr>\n",
       "  </tbody>\n",
       "</table>\n",
       "</div>"
      ],
      "text/plain": [
       "                  유속             우행\n",
       "count  309765.000000  309765.000000\n",
       "mean       15.681014     159.885700\n",
       "std        11.558005      93.206462\n",
       "min         0.000000       0.000000\n",
       "25%         7.100000      90.000000\n",
       "50%        13.600000     115.000000\n",
       "75%        21.600000     255.000000\n",
       "max       160.700000     370.000000"
      ]
     },
     "execution_count": 25,
     "metadata": {},
     "output_type": "execute_result"
    }
   ],
   "source": [
    "khoa_buoy_test_Haeundae[khoa_buoy_test_Haeundae['유속']!=-99.9].describe()"
   ]
  },
  {
   "cell_type": "code",
   "execution_count": 26,
   "id": "1411b8bc",
   "metadata": {},
   "outputs": [],
   "source": [
    "khoa_buoy_test_SongJeong.to_csv(\"../data/weather_data/preprocessed_data/khoa_buoy_test_SongJeong.csv\",encoding='cp949')"
   ]
  },
  {
   "cell_type": "code",
   "execution_count": 27,
   "id": "40488077",
   "metadata": {},
   "outputs": [],
   "source": [
    "khoa_buoy_test_Haeundae.to_csv(\"../data/weather_data/preprocessed_data/khoa_buoy_test_Haeundae.csv\",encoding='cp949')"
   ]
  },
  {
   "cell_type": "markdown",
   "id": "32c79454",
   "metadata": {},
   "source": [
    "# Khoah_buoy_train"
   ]
  },
  {
   "cell_type": "code",
   "execution_count": 28,
   "id": "7b6435f0",
   "metadata": {},
   "outputs": [],
   "source": [
    "import pandas as pd"
   ]
  },
  {
   "cell_type": "code",
   "execution_count": 29,
   "id": "647ac184",
   "metadata": {},
   "outputs": [
    {
     "name": "stdout",
     "output_type": "stream",
     "text": [
      "(943488, 5)\n"
     ]
    },
    {
     "data": {
      "text/html": [
       "<div>\n",
       "<style scoped>\n",
       "    .dataframe tbody tr th:only-of-type {\n",
       "        vertical-align: middle;\n",
       "    }\n",
       "\n",
       "    .dataframe tbody tr th {\n",
       "        vertical-align: top;\n",
       "    }\n",
       "\n",
       "    .dataframe thead th {\n",
       "        text-align: right;\n",
       "    }\n",
       "</style>\n",
       "<table border=\"1\" class=\"dataframe\">\n",
       "  <thead>\n",
       "    <tr style=\"text-align: right;\">\n",
       "      <th></th>\n",
       "      <th>시간</th>\n",
       "      <th>지점명</th>\n",
       "      <th>유속</th>\n",
       "      <th>유향</th>\n",
       "      <th>우행</th>\n",
       "    </tr>\n",
       "  </thead>\n",
       "  <tbody>\n",
       "    <tr>\n",
       "      <th>0</th>\n",
       "      <td>202101010000</td>\n",
       "      <td>SongJeong</td>\n",
       "      <td>45.3</td>\n",
       "      <td>NE</td>\n",
       "      <td>49.0</td>\n",
       "    </tr>\n",
       "    <tr>\n",
       "      <th>1</th>\n",
       "      <td>202101010005</td>\n",
       "      <td>SongJeong</td>\n",
       "      <td>43.0</td>\n",
       "      <td>NE</td>\n",
       "      <td>48.0</td>\n",
       "    </tr>\n",
       "    <tr>\n",
       "      <th>2</th>\n",
       "      <td>202101010010</td>\n",
       "      <td>SongJeong</td>\n",
       "      <td>45.0</td>\n",
       "      <td>NE</td>\n",
       "      <td>50.0</td>\n",
       "    </tr>\n",
       "    <tr>\n",
       "      <th>3</th>\n",
       "      <td>202101010015</td>\n",
       "      <td>SongJeong</td>\n",
       "      <td>44.8</td>\n",
       "      <td>NE</td>\n",
       "      <td>48.0</td>\n",
       "    </tr>\n",
       "    <tr>\n",
       "      <th>4</th>\n",
       "      <td>202101010020</td>\n",
       "      <td>SongJeong</td>\n",
       "      <td>43.2</td>\n",
       "      <td>NE</td>\n",
       "      <td>49.0</td>\n",
       "    </tr>\n",
       "  </tbody>\n",
       "</table>\n",
       "</div>"
      ],
      "text/plain": [
       "             시간        지점명    유속  유향    우행\n",
       "0  202101010000  SongJeong  45.3  NE  49.0\n",
       "1  202101010005  SongJeong  43.0  NE  48.0\n",
       "2  202101010010  SongJeong  45.0  NE  50.0\n",
       "3  202101010015  SongJeong  44.8  NE  48.0\n",
       "4  202101010020  SongJeong  43.2  NE  49.0"
      ]
     },
     "execution_count": 29,
     "metadata": {},
     "output_type": "execute_result"
    }
   ],
   "source": [
    "khoa_buoy_train = pd.read_csv(\"../data/weather_data/processed/khoa_buoy_train(수정).csv\",encoding='cp949').drop('Unnamed: 0',axis=1)\n",
    "print(khoa_buoy_train.shape)\n",
    "khoa_buoy_train.head()"
   ]
  },
  {
   "cell_type": "code",
   "execution_count": 30,
   "id": "c03d058e",
   "metadata": {},
   "outputs": [
    {
     "data": {
      "text/plain": [
       "array(['SongJeong', 'Haeundae'], dtype=object)"
      ]
     },
     "execution_count": 30,
     "metadata": {},
     "output_type": "execute_result"
    }
   ],
   "source": [
    "khoa_buoy_train['지점명'].unique()"
   ]
  },
  {
   "cell_type": "code",
   "execution_count": 31,
   "id": "afb7ea5f",
   "metadata": {},
   "outputs": [
    {
     "data": {
      "text/html": [
       "<div>\n",
       "<style scoped>\n",
       "    .dataframe tbody tr th:only-of-type {\n",
       "        vertical-align: middle;\n",
       "    }\n",
       "\n",
       "    .dataframe tbody tr th {\n",
       "        vertical-align: top;\n",
       "    }\n",
       "\n",
       "    .dataframe thead th {\n",
       "        text-align: right;\n",
       "    }\n",
       "</style>\n",
       "<table border=\"1\" class=\"dataframe\">\n",
       "  <thead>\n",
       "    <tr style=\"text-align: right;\">\n",
       "      <th></th>\n",
       "      <th>시간</th>\n",
       "      <th>유속</th>\n",
       "      <th>우행</th>\n",
       "    </tr>\n",
       "  </thead>\n",
       "  <tbody>\n",
       "    <tr>\n",
       "      <th>count</th>\n",
       "      <td>9.434880e+05</td>\n",
       "      <td>943488.000000</td>\n",
       "      <td>943488.000000</td>\n",
       "    </tr>\n",
       "    <tr>\n",
       "      <th>mean</th>\n",
       "      <td>2.021388e+11</td>\n",
       "      <td>12.999276</td>\n",
       "      <td>139.746979</td>\n",
       "    </tr>\n",
       "    <tr>\n",
       "      <th>std</th>\n",
       "      <td>4.575184e+07</td>\n",
       "      <td>31.256048</td>\n",
       "      <td>109.949551</td>\n",
       "    </tr>\n",
       "    <tr>\n",
       "      <th>min</th>\n",
       "      <td>2.021010e+11</td>\n",
       "      <td>-99.900000</td>\n",
       "      <td>-99.900000</td>\n",
       "    </tr>\n",
       "    <tr>\n",
       "      <th>25%</th>\n",
       "      <td>2.021052e+11</td>\n",
       "      <td>6.700000</td>\n",
       "      <td>74.000000</td>\n",
       "    </tr>\n",
       "    <tr>\n",
       "      <th>50%</th>\n",
       "      <td>2.021097e+11</td>\n",
       "      <td>14.500000</td>\n",
       "      <td>98.000000</td>\n",
       "    </tr>\n",
       "    <tr>\n",
       "      <th>75%</th>\n",
       "      <td>2.022021e+11</td>\n",
       "      <td>25.000000</td>\n",
       "      <td>254.000000</td>\n",
       "    </tr>\n",
       "    <tr>\n",
       "      <th>max</th>\n",
       "      <td>2.022063e+11</td>\n",
       "      <td>190.200000</td>\n",
       "      <td>360.000000</td>\n",
       "    </tr>\n",
       "  </tbody>\n",
       "</table>\n",
       "</div>"
      ],
      "text/plain": [
       "                 시간             유속             우행\n",
       "count  9.434880e+05  943488.000000  943488.000000\n",
       "mean   2.021388e+11      12.999276     139.746979\n",
       "std    4.575184e+07      31.256048     109.949551\n",
       "min    2.021010e+11     -99.900000     -99.900000\n",
       "25%    2.021052e+11       6.700000      74.000000\n",
       "50%    2.021097e+11      14.500000      98.000000\n",
       "75%    2.022021e+11      25.000000     254.000000\n",
       "max    2.022063e+11     190.200000     360.000000"
      ]
     },
     "execution_count": 31,
     "metadata": {},
     "output_type": "execute_result"
    }
   ],
   "source": [
    "khoa_buoy_train.describe()"
   ]
  },
  {
   "cell_type": "markdown",
   "id": "7fc7f679",
   "metadata": {},
   "source": [
    "## 중복확인"
   ]
  },
  {
   "cell_type": "code",
   "execution_count": 32,
   "id": "35e223af",
   "metadata": {},
   "outputs": [],
   "source": [
    "import numpy as np"
   ]
  },
  {
   "cell_type": "code",
   "execution_count": 33,
   "id": "8da9ba01",
   "metadata": {},
   "outputs": [
    {
     "data": {
      "text/plain": [
       "0"
      ]
     },
     "execution_count": 33,
     "metadata": {},
     "output_type": "execute_result"
    }
   ],
   "source": [
    "np.sum(khoa_buoy_train.duplicated()) #중복없음"
   ]
  },
  {
   "cell_type": "markdown",
   "id": "0215f2ac",
   "metadata": {},
   "source": [
    "## 시간 데이터프레임"
   ]
  },
  {
   "cell_type": "code",
   "execution_count": 34,
   "id": "4efacdff",
   "metadata": {},
   "outputs": [],
   "source": [
    "khoa_buoy_train['시간']= pd.to_datetime(khoa_buoy_train['시간'], format='%Y%m%d%H%M')"
   ]
  },
  {
   "cell_type": "markdown",
   "id": "d2e5bb95",
   "metadata": {},
   "source": [
    "## 지점분리"
   ]
  },
  {
   "cell_type": "code",
   "execution_count": 35,
   "id": "e044bd7c",
   "metadata": {},
   "outputs": [
    {
     "data": {
      "text/plain": [
       "array(['SongJeong', 'Haeundae'], dtype=object)"
      ]
     },
     "execution_count": 35,
     "metadata": {},
     "output_type": "execute_result"
    }
   ],
   "source": [
    "khoa_buoy_train['지점명'].unique()"
   ]
  },
  {
   "cell_type": "code",
   "execution_count": 36,
   "id": "e41def0e",
   "metadata": {},
   "outputs": [],
   "source": [
    "khoa_buoy_train_SongJeong = khoa_buoy_train[khoa_buoy_train['지점명']=='SongJeong']\n",
    "khoa_buoy_train_Haeundae = khoa_buoy_train[khoa_buoy_train['지점명']=='Haeundae']"
   ]
  },
  {
   "cell_type": "code",
   "execution_count": 37,
   "id": "4fdb4207",
   "metadata": {},
   "outputs": [],
   "source": [
    "khoa_buoy_train_SongJeong= khoa_buoy_train_SongJeong.reset_index(drop=True)"
   ]
  },
  {
   "cell_type": "code",
   "execution_count": 38,
   "id": "0d8a254d",
   "metadata": {},
   "outputs": [],
   "source": [
    "khoa_buoy_train_Haeundae= khoa_buoy_train_Haeundae.reset_index(drop=True)"
   ]
  },
  {
   "cell_type": "markdown",
   "id": "50104127",
   "metadata": {},
   "source": [
    "## 시간 결측치 확인"
   ]
  },
  {
   "cell_type": "markdown",
   "id": "1d7a265b",
   "metadata": {},
   "source": [
    "- 해운대 결측치 없음"
   ]
  },
  {
   "cell_type": "code",
   "execution_count": 39,
   "id": "6e7b7653",
   "metadata": {},
   "outputs": [
    {
     "data": {
      "text/html": [
       "<div>\n",
       "<style scoped>\n",
       "    .dataframe tbody tr th:only-of-type {\n",
       "        vertical-align: middle;\n",
       "    }\n",
       "\n",
       "    .dataframe tbody tr th {\n",
       "        vertical-align: top;\n",
       "    }\n",
       "\n",
       "    .dataframe thead th {\n",
       "        text-align: right;\n",
       "    }\n",
       "</style>\n",
       "<table border=\"1\" class=\"dataframe\">\n",
       "  <thead>\n",
       "    <tr style=\"text-align: right;\">\n",
       "      <th></th>\n",
       "      <th>시간</th>\n",
       "      <th>지점명</th>\n",
       "      <th>유속</th>\n",
       "      <th>유향</th>\n",
       "      <th>우행</th>\n",
       "    </tr>\n",
       "  </thead>\n",
       "  <tbody>\n",
       "    <tr>\n",
       "      <th>0</th>\n",
       "      <td>2021-01-01 00:00:00</td>\n",
       "      <td>Haeundae</td>\n",
       "      <td>28.2</td>\n",
       "      <td>E</td>\n",
       "      <td>90.0</td>\n",
       "    </tr>\n",
       "    <tr>\n",
       "      <th>1</th>\n",
       "      <td>2021-01-01 00:01:00</td>\n",
       "      <td>Haeundae</td>\n",
       "      <td>26.8</td>\n",
       "      <td>E</td>\n",
       "      <td>89.0</td>\n",
       "    </tr>\n",
       "    <tr>\n",
       "      <th>2</th>\n",
       "      <td>2021-01-01 00:02:00</td>\n",
       "      <td>Haeundae</td>\n",
       "      <td>26.0</td>\n",
       "      <td>E</td>\n",
       "      <td>80.0</td>\n",
       "    </tr>\n",
       "    <tr>\n",
       "      <th>3</th>\n",
       "      <td>2021-01-01 00:03:00</td>\n",
       "      <td>Haeundae</td>\n",
       "      <td>24.7</td>\n",
       "      <td>E</td>\n",
       "      <td>93.0</td>\n",
       "    </tr>\n",
       "    <tr>\n",
       "      <th>4</th>\n",
       "      <td>2021-01-01 00:04:00</td>\n",
       "      <td>Haeundae</td>\n",
       "      <td>25.6</td>\n",
       "      <td>E</td>\n",
       "      <td>94.0</td>\n",
       "    </tr>\n",
       "    <tr>\n",
       "      <th>...</th>\n",
       "      <td>...</td>\n",
       "      <td>...</td>\n",
       "      <td>...</td>\n",
       "      <td>...</td>\n",
       "      <td>...</td>\n",
       "    </tr>\n",
       "    <tr>\n",
       "      <th>786235</th>\n",
       "      <td>2022-06-30 23:55:00</td>\n",
       "      <td>Haeundae</td>\n",
       "      <td>32.3</td>\n",
       "      <td>E</td>\n",
       "      <td>90.0</td>\n",
       "    </tr>\n",
       "    <tr>\n",
       "      <th>786236</th>\n",
       "      <td>2022-06-30 23:56:00</td>\n",
       "      <td>Haeundae</td>\n",
       "      <td>32.3</td>\n",
       "      <td>E</td>\n",
       "      <td>89.0</td>\n",
       "    </tr>\n",
       "    <tr>\n",
       "      <th>786237</th>\n",
       "      <td>2022-06-30 23:57:00</td>\n",
       "      <td>Haeundae</td>\n",
       "      <td>31.4</td>\n",
       "      <td>E</td>\n",
       "      <td>86.0</td>\n",
       "    </tr>\n",
       "    <tr>\n",
       "      <th>786238</th>\n",
       "      <td>2022-06-30 23:58:00</td>\n",
       "      <td>Haeundae</td>\n",
       "      <td>31.7</td>\n",
       "      <td>E</td>\n",
       "      <td>90.0</td>\n",
       "    </tr>\n",
       "    <tr>\n",
       "      <th>786239</th>\n",
       "      <td>2022-06-30 23:59:00</td>\n",
       "      <td>Haeundae</td>\n",
       "      <td>35.0</td>\n",
       "      <td>E</td>\n",
       "      <td>87.0</td>\n",
       "    </tr>\n",
       "  </tbody>\n",
       "</table>\n",
       "<p>786240 rows × 5 columns</p>\n",
       "</div>"
      ],
      "text/plain": [
       "                        시간       지점명    유속 유향    우행\n",
       "0      2021-01-01 00:00:00  Haeundae  28.2  E  90.0\n",
       "1      2021-01-01 00:01:00  Haeundae  26.8  E  89.0\n",
       "2      2021-01-01 00:02:00  Haeundae  26.0  E  80.0\n",
       "3      2021-01-01 00:03:00  Haeundae  24.7  E  93.0\n",
       "4      2021-01-01 00:04:00  Haeundae  25.6  E  94.0\n",
       "...                    ...       ...   ... ..   ...\n",
       "786235 2022-06-30 23:55:00  Haeundae  32.3  E  90.0\n",
       "786236 2022-06-30 23:56:00  Haeundae  32.3  E  89.0\n",
       "786237 2022-06-30 23:57:00  Haeundae  31.4  E  86.0\n",
       "786238 2022-06-30 23:58:00  Haeundae  31.7  E  90.0\n",
       "786239 2022-06-30 23:59:00  Haeundae  35.0  E  87.0\n",
       "\n",
       "[786240 rows x 5 columns]"
      ]
     },
     "execution_count": 39,
     "metadata": {},
     "output_type": "execute_result"
    }
   ],
   "source": [
    "khoa_buoy_train_Haeundae"
   ]
  },
  {
   "cell_type": "code",
   "execution_count": 40,
   "id": "deddf681",
   "metadata": {},
   "outputs": [],
   "source": [
    "time = pd.date_range(start='2021-01-01 00:00:00',end='2022-06-30 23:59:00', freq='1min')"
   ]
  },
  {
   "cell_type": "code",
   "execution_count": 41,
   "id": "ac030293",
   "metadata": {},
   "outputs": [
    {
     "name": "stdout",
     "output_type": "stream",
     "text": [
      "786240\n",
      "786240\n"
     ]
    }
   ],
   "source": [
    "print(len(time))\n",
    "print(len(khoa_buoy_train_Haeundae)) #결측치 없음"
   ]
  },
  {
   "cell_type": "markdown",
   "id": "e4d0bf3a",
   "metadata": {},
   "source": [
    "- 송정 결측치 없음"
   ]
  },
  {
   "cell_type": "code",
   "execution_count": 42,
   "id": "d932957e",
   "metadata": {},
   "outputs": [
    {
     "data": {
      "text/html": [
       "<div>\n",
       "<style scoped>\n",
       "    .dataframe tbody tr th:only-of-type {\n",
       "        vertical-align: middle;\n",
       "    }\n",
       "\n",
       "    .dataframe tbody tr th {\n",
       "        vertical-align: top;\n",
       "    }\n",
       "\n",
       "    .dataframe thead th {\n",
       "        text-align: right;\n",
       "    }\n",
       "</style>\n",
       "<table border=\"1\" class=\"dataframe\">\n",
       "  <thead>\n",
       "    <tr style=\"text-align: right;\">\n",
       "      <th></th>\n",
       "      <th>시간</th>\n",
       "      <th>지점명</th>\n",
       "      <th>유속</th>\n",
       "      <th>유향</th>\n",
       "      <th>우행</th>\n",
       "    </tr>\n",
       "  </thead>\n",
       "  <tbody>\n",
       "    <tr>\n",
       "      <th>0</th>\n",
       "      <td>2021-01-01 00:00:00</td>\n",
       "      <td>SongJeong</td>\n",
       "      <td>45.3</td>\n",
       "      <td>NE</td>\n",
       "      <td>49.0</td>\n",
       "    </tr>\n",
       "    <tr>\n",
       "      <th>1</th>\n",
       "      <td>2021-01-01 00:05:00</td>\n",
       "      <td>SongJeong</td>\n",
       "      <td>43.0</td>\n",
       "      <td>NE</td>\n",
       "      <td>48.0</td>\n",
       "    </tr>\n",
       "    <tr>\n",
       "      <th>2</th>\n",
       "      <td>2021-01-01 00:10:00</td>\n",
       "      <td>SongJeong</td>\n",
       "      <td>45.0</td>\n",
       "      <td>NE</td>\n",
       "      <td>50.0</td>\n",
       "    </tr>\n",
       "    <tr>\n",
       "      <th>3</th>\n",
       "      <td>2021-01-01 00:15:00</td>\n",
       "      <td>SongJeong</td>\n",
       "      <td>44.8</td>\n",
       "      <td>NE</td>\n",
       "      <td>48.0</td>\n",
       "    </tr>\n",
       "    <tr>\n",
       "      <th>4</th>\n",
       "      <td>2021-01-01 00:20:00</td>\n",
       "      <td>SongJeong</td>\n",
       "      <td>43.2</td>\n",
       "      <td>NE</td>\n",
       "      <td>49.0</td>\n",
       "    </tr>\n",
       "    <tr>\n",
       "      <th>...</th>\n",
       "      <td>...</td>\n",
       "      <td>...</td>\n",
       "      <td>...</td>\n",
       "      <td>...</td>\n",
       "      <td>...</td>\n",
       "    </tr>\n",
       "    <tr>\n",
       "      <th>157243</th>\n",
       "      <td>2022-06-30 23:35:00</td>\n",
       "      <td>SongJeong</td>\n",
       "      <td>107.2</td>\n",
       "      <td>NE</td>\n",
       "      <td>46.0</td>\n",
       "    </tr>\n",
       "    <tr>\n",
       "      <th>157244</th>\n",
       "      <td>2022-06-30 23:40:00</td>\n",
       "      <td>SongJeong</td>\n",
       "      <td>109.1</td>\n",
       "      <td>NE</td>\n",
       "      <td>45.0</td>\n",
       "    </tr>\n",
       "    <tr>\n",
       "      <th>157245</th>\n",
       "      <td>2022-06-30 23:45:00</td>\n",
       "      <td>SongJeong</td>\n",
       "      <td>103.9</td>\n",
       "      <td>NE</td>\n",
       "      <td>48.0</td>\n",
       "    </tr>\n",
       "    <tr>\n",
       "      <th>157246</th>\n",
       "      <td>2022-06-30 23:50:00</td>\n",
       "      <td>SongJeong</td>\n",
       "      <td>107.9</td>\n",
       "      <td>NE</td>\n",
       "      <td>50.0</td>\n",
       "    </tr>\n",
       "    <tr>\n",
       "      <th>157247</th>\n",
       "      <td>2022-06-30 23:55:00</td>\n",
       "      <td>SongJeong</td>\n",
       "      <td>104.2</td>\n",
       "      <td>NE</td>\n",
       "      <td>50.0</td>\n",
       "    </tr>\n",
       "  </tbody>\n",
       "</table>\n",
       "<p>157248 rows × 5 columns</p>\n",
       "</div>"
      ],
      "text/plain": [
       "                        시간        지점명     유속  유향    우행\n",
       "0      2021-01-01 00:00:00  SongJeong   45.3  NE  49.0\n",
       "1      2021-01-01 00:05:00  SongJeong   43.0  NE  48.0\n",
       "2      2021-01-01 00:10:00  SongJeong   45.0  NE  50.0\n",
       "3      2021-01-01 00:15:00  SongJeong   44.8  NE  48.0\n",
       "4      2021-01-01 00:20:00  SongJeong   43.2  NE  49.0\n",
       "...                    ...        ...    ...  ..   ...\n",
       "157243 2022-06-30 23:35:00  SongJeong  107.2  NE  46.0\n",
       "157244 2022-06-30 23:40:00  SongJeong  109.1  NE  45.0\n",
       "157245 2022-06-30 23:45:00  SongJeong  103.9  NE  48.0\n",
       "157246 2022-06-30 23:50:00  SongJeong  107.9  NE  50.0\n",
       "157247 2022-06-30 23:55:00  SongJeong  104.2  NE  50.0\n",
       "\n",
       "[157248 rows x 5 columns]"
      ]
     },
     "execution_count": 42,
     "metadata": {},
     "output_type": "execute_result"
    }
   ],
   "source": [
    "khoa_buoy_train_SongJeong"
   ]
  },
  {
   "cell_type": "code",
   "execution_count": 43,
   "id": "2710af34",
   "metadata": {},
   "outputs": [],
   "source": [
    "time = pd.date_range(start='2021-01-01 00:00:00' ,end='2022-06-30 23:55:00',freq='5min')"
   ]
  },
  {
   "cell_type": "code",
   "execution_count": 44,
   "id": "5d496c40",
   "metadata": {},
   "outputs": [
    {
     "name": "stdout",
     "output_type": "stream",
     "text": [
      "157248\n",
      "157248\n"
     ]
    }
   ],
   "source": [
    "print(len(time))\n",
    "print(len(khoa_buoy_train_SongJeong))"
   ]
  },
  {
   "cell_type": "markdown",
   "id": "cc606285",
   "metadata": {},
   "source": [
    "## 날짜와 시간분리"
   ]
  },
  {
   "cell_type": "code",
   "execution_count": 45,
   "id": "c4b431d1",
   "metadata": {},
   "outputs": [],
   "source": [
    "khoa_buoy_train_SongJeong['날짜_시간'] = khoa_buoy_train_SongJeong['시간']\n",
    "khoa_buoy_train_SongJeong['날짜']= khoa_buoy_train_SongJeong['날짜_시간'].apply(lambda x: str(x).split()[0])\n",
    "khoa_buoy_train_SongJeong['시간']= khoa_buoy_train_SongJeong['날짜_시간'].apply(lambda x: str(x).split()[1])\n",
    "khoa_buoy_train_SongJeong=khoa_buoy_train_SongJeong[['날짜_시간', '날짜','시간', '지점명', '유속', '유향', '우행']]"
   ]
  },
  {
   "cell_type": "code",
   "execution_count": 46,
   "id": "d34fa015",
   "metadata": {},
   "outputs": [],
   "source": [
    "khoa_buoy_train_Haeundae['날짜_시간'] = khoa_buoy_train_Haeundae['시간']\n",
    "khoa_buoy_train_Haeundae['날짜']= khoa_buoy_train_Haeundae['날짜_시간'].apply(lambda x: str(x).split()[0])\n",
    "khoa_buoy_train_Haeundae['시간']= khoa_buoy_train_Haeundae['날짜_시간'].apply(lambda x: str(x).split()[1])\n",
    "khoa_buoy_train_Haeundae=khoa_buoy_train_Haeundae[['날짜_시간', '날짜','시간', '지점명', '유속', '유향', '우행']]"
   ]
  },
  {
   "cell_type": "markdown",
   "id": "e0e9174a",
   "metadata": {},
   "source": [
    "저장"
   ]
  },
  {
   "cell_type": "code",
   "execution_count": 47,
   "id": "35bd3a98",
   "metadata": {},
   "outputs": [],
   "source": [
    "khoa_buoy_train_SongJeong.to_csv(\"../data/weather_data/preprocessed_data/khoa_buoy_train_SongJeong.csv\", encoding=\"cp949\")\n",
    "khoa_buoy_train_Haeundae.to_csv(\"../data/weather_data/preprocessed_data/khoa_buoy_train_Haeundae.csv\", encoding=\"cp949\")"
   ]
  },
  {
   "cell_type": "markdown",
   "id": "fe3064c1",
   "metadata": {},
   "source": [
    "## 이상치 확인"
   ]
  },
  {
   "cell_type": "code",
   "execution_count": 48,
   "id": "ed131015",
   "metadata": {},
   "outputs": [
    {
     "name": "stdout",
     "output_type": "stream",
     "text": [
      "42820\n",
      "42780\n",
      "42780\n"
     ]
    }
   ],
   "source": [
    "print(np.sum(khoa_buoy_train_Haeundae['유속']==-99.9))\n",
    "print(np.sum(khoa_buoy_train_Haeundae['유향']==\"-99.9\"))\n",
    "print(np.sum(khoa_buoy_train_Haeundae['우행']==-99.9))"
   ]
  },
  {
   "cell_type": "code",
   "execution_count": 49,
   "id": "0a8eedf2",
   "metadata": {},
   "outputs": [
    {
     "data": {
      "text/html": [
       "<div>\n",
       "<style scoped>\n",
       "    .dataframe tbody tr th:only-of-type {\n",
       "        vertical-align: middle;\n",
       "    }\n",
       "\n",
       "    .dataframe tbody tr th {\n",
       "        vertical-align: top;\n",
       "    }\n",
       "\n",
       "    .dataframe thead th {\n",
       "        text-align: right;\n",
       "    }\n",
       "</style>\n",
       "<table border=\"1\" class=\"dataframe\">\n",
       "  <thead>\n",
       "    <tr style=\"text-align: right;\">\n",
       "      <th></th>\n",
       "      <th>유속</th>\n",
       "      <th>우행</th>\n",
       "    </tr>\n",
       "  </thead>\n",
       "  <tbody>\n",
       "    <tr>\n",
       "      <th>count</th>\n",
       "      <td>743420.000000</td>\n",
       "      <td>743420.000000</td>\n",
       "    </tr>\n",
       "    <tr>\n",
       "      <th>mean</th>\n",
       "      <td>15.924632</td>\n",
       "      <td>159.398222</td>\n",
       "    </tr>\n",
       "    <tr>\n",
       "      <th>std</th>\n",
       "      <td>11.016193</td>\n",
       "      <td>95.053872</td>\n",
       "    </tr>\n",
       "    <tr>\n",
       "      <th>min</th>\n",
       "      <td>0.000000</td>\n",
       "      <td>0.000000</td>\n",
       "    </tr>\n",
       "    <tr>\n",
       "      <th>25%</th>\n",
       "      <td>7.100000</td>\n",
       "      <td>86.000000</td>\n",
       "    </tr>\n",
       "    <tr>\n",
       "      <th>50%</th>\n",
       "      <td>13.900000</td>\n",
       "      <td>105.000000</td>\n",
       "    </tr>\n",
       "    <tr>\n",
       "      <th>75%</th>\n",
       "      <td>22.500000</td>\n",
       "      <td>260.000000</td>\n",
       "    </tr>\n",
       "    <tr>\n",
       "      <th>max</th>\n",
       "      <td>190.200000</td>\n",
       "      <td>360.000000</td>\n",
       "    </tr>\n",
       "  </tbody>\n",
       "</table>\n",
       "</div>"
      ],
      "text/plain": [
       "                  유속             우행\n",
       "count  743420.000000  743420.000000\n",
       "mean       15.924632     159.398222\n",
       "std        11.016193      95.053872\n",
       "min         0.000000       0.000000\n",
       "25%         7.100000      86.000000\n",
       "50%        13.900000     105.000000\n",
       "75%        22.500000     260.000000\n",
       "max       190.200000     360.000000"
      ]
     },
     "execution_count": 49,
     "metadata": {},
     "output_type": "execute_result"
    }
   ],
   "source": [
    "khoa_buoy_train_Haeundae[khoa_buoy_train_Haeundae['유속']!=-99.9].describe()"
   ]
  },
  {
   "cell_type": "code",
   "execution_count": 50,
   "id": "1f2be8c8",
   "metadata": {},
   "outputs": [
    {
     "name": "stdout",
     "output_type": "stream",
     "text": [
      "7910\n",
      "7884\n",
      "7884\n"
     ]
    }
   ],
   "source": [
    "print(np.sum(khoa_buoy_train_SongJeong['유속']==-99.9))\n",
    "print(np.sum(khoa_buoy_train_SongJeong['유향']==\"-99.9\"))\n",
    "print(np.sum(khoa_buoy_train_SongJeong['우행']==-99.9))"
   ]
  },
  {
   "cell_type": "code",
   "execution_count": 51,
   "id": "c4e95ca3",
   "metadata": {},
   "outputs": [
    {
     "data": {
      "text/html": [
       "<div>\n",
       "<style scoped>\n",
       "    .dataframe tbody tr th:only-of-type {\n",
       "        vertical-align: middle;\n",
       "    }\n",
       "\n",
       "    .dataframe tbody tr th {\n",
       "        vertical-align: top;\n",
       "    }\n",
       "\n",
       "    .dataframe thead th {\n",
       "        text-align: right;\n",
       "    }\n",
       "</style>\n",
       "<table border=\"1\" class=\"dataframe\">\n",
       "  <thead>\n",
       "    <tr style=\"text-align: right;\">\n",
       "      <th></th>\n",
       "      <th>유속</th>\n",
       "      <th>우행</th>\n",
       "    </tr>\n",
       "  </thead>\n",
       "  <tbody>\n",
       "    <tr>\n",
       "      <th>count</th>\n",
       "      <td>149338.000000</td>\n",
       "      <td>149338.000000</td>\n",
       "    </tr>\n",
       "    <tr>\n",
       "      <th>mean</th>\n",
       "      <td>36.788349</td>\n",
       "      <td>123.213422</td>\n",
       "    </tr>\n",
       "    <tr>\n",
       "      <th>std</th>\n",
       "      <td>25.091429</td>\n",
       "      <td>98.555878</td>\n",
       "    </tr>\n",
       "    <tr>\n",
       "      <th>min</th>\n",
       "      <td>0.000000</td>\n",
       "      <td>0.000000</td>\n",
       "    </tr>\n",
       "    <tr>\n",
       "      <th>25%</th>\n",
       "      <td>16.100000</td>\n",
       "      <td>46.000000</td>\n",
       "    </tr>\n",
       "    <tr>\n",
       "      <th>50%</th>\n",
       "      <td>32.200000</td>\n",
       "      <td>58.000000</td>\n",
       "    </tr>\n",
       "    <tr>\n",
       "      <th>75%</th>\n",
       "      <td>53.100000</td>\n",
       "      <td>221.000000</td>\n",
       "    </tr>\n",
       "    <tr>\n",
       "      <th>max</th>\n",
       "      <td>185.800000</td>\n",
       "      <td>360.000000</td>\n",
       "    </tr>\n",
       "  </tbody>\n",
       "</table>\n",
       "</div>"
      ],
      "text/plain": [
       "                  유속             우행\n",
       "count  149338.000000  149338.000000\n",
       "mean       36.788349     123.213422\n",
       "std        25.091429      98.555878\n",
       "min         0.000000       0.000000\n",
       "25%        16.100000      46.000000\n",
       "50%        32.200000      58.000000\n",
       "75%        53.100000     221.000000\n",
       "max       185.800000     360.000000"
      ]
     },
     "execution_count": 51,
     "metadata": {},
     "output_type": "execute_result"
    }
   ],
   "source": [
    "khoa_buoy_train_SongJeong[khoa_buoy_train_SongJeong['유속']!=-99.9].describe()"
   ]
  },
  {
   "cell_type": "markdown",
   "id": "e166dd8b",
   "metadata": {},
   "source": [
    "# busan_answer"
   ]
  },
  {
   "cell_type": "code",
   "execution_count": 53,
   "id": "f6da128c",
   "metadata": {},
   "outputs": [],
   "source": [
    "import pandas as pd"
   ]
  },
  {
   "cell_type": "code",
   "execution_count": 54,
   "id": "52a42aaa",
   "metadata": {},
   "outputs": [
    {
     "data": {
      "text/html": [
       "<div>\n",
       "<style scoped>\n",
       "    .dataframe tbody tr th:only-of-type {\n",
       "        vertical-align: middle;\n",
       "    }\n",
       "\n",
       "    .dataframe tbody tr th {\n",
       "        vertical-align: top;\n",
       "    }\n",
       "\n",
       "    .dataframe thead th {\n",
       "        text-align: right;\n",
       "    }\n",
       "</style>\n",
       "<table border=\"1\" class=\"dataframe\">\n",
       "  <thead>\n",
       "    <tr style=\"text-align: right;\">\n",
       "      <th></th>\n",
       "      <th>busan_answer.area</th>\n",
       "      <th>busan_answer.tear</th>\n",
       "      <th>busan_answer.num</th>\n",
       "      <th>busan_answer.mon</th>\n",
       "      <th>busan_answer.day</th>\n",
       "      <th>busan_answer.hour</th>\n",
       "      <th>busan_answer.min</th>\n",
       "      <th>busan_answer.lat</th>\n",
       "      <th>busan_answer.lon</th>\n",
       "    </tr>\n",
       "  </thead>\n",
       "  <tbody>\n",
       "    <tr>\n",
       "      <th>0</th>\n",
       "      <td>BUSAN</td>\n",
       "      <td>2021</td>\n",
       "      <td>1</td>\n",
       "      <td>1</td>\n",
       "      <td>17</td>\n",
       "      <td>2</td>\n",
       "      <td>4</td>\n",
       "      <td>N35.045368</td>\n",
       "      <td>E129.07101</td>\n",
       "    </tr>\n",
       "    <tr>\n",
       "      <th>1</th>\n",
       "      <td>BUSAN</td>\n",
       "      <td>2021</td>\n",
       "      <td>2</td>\n",
       "      <td>1</td>\n",
       "      <td>17</td>\n",
       "      <td>4</td>\n",
       "      <td>16</td>\n",
       "      <td>N35.017088</td>\n",
       "      <td>E129.05879</td>\n",
       "    </tr>\n",
       "    <tr>\n",
       "      <th>2</th>\n",
       "      <td>BUSAN</td>\n",
       "      <td>2021</td>\n",
       "      <td>3</td>\n",
       "      <td>1</td>\n",
       "      <td>17</td>\n",
       "      <td>4</td>\n",
       "      <td>56</td>\n",
       "      <td>N35.005498</td>\n",
       "      <td>E129.06747</td>\n",
       "    </tr>\n",
       "    <tr>\n",
       "      <th>3</th>\n",
       "      <td>BUSAN</td>\n",
       "      <td>2021</td>\n",
       "      <td>4</td>\n",
       "      <td>1</td>\n",
       "      <td>23</td>\n",
       "      <td>14</td>\n",
       "      <td>3</td>\n",
       "      <td>N35.016828</td>\n",
       "      <td>E129.04048</td>\n",
       "    </tr>\n",
       "    <tr>\n",
       "      <th>4</th>\n",
       "      <td>BUSAN</td>\n",
       "      <td>2021</td>\n",
       "      <td>5</td>\n",
       "      <td>1</td>\n",
       "      <td>23</td>\n",
       "      <td>15</td>\n",
       "      <td>18</td>\n",
       "      <td>N35.034230</td>\n",
       "      <td>E129.06190</td>\n",
       "    </tr>\n",
       "    <tr>\n",
       "      <th>...</th>\n",
       "      <td>...</td>\n",
       "      <td>...</td>\n",
       "      <td>...</td>\n",
       "      <td>...</td>\n",
       "      <td>...</td>\n",
       "      <td>...</td>\n",
       "      <td>...</td>\n",
       "      <td>...</td>\n",
       "      <td>...</td>\n",
       "    </tr>\n",
       "    <tr>\n",
       "      <th>82</th>\n",
       "      <td>BUSAN</td>\n",
       "      <td>2022</td>\n",
       "      <td>83</td>\n",
       "      <td>4</td>\n",
       "      <td>13</td>\n",
       "      <td>2</td>\n",
       "      <td>17</td>\n",
       "      <td>N35.051660</td>\n",
       "      <td>E129.04283</td>\n",
       "    </tr>\n",
       "    <tr>\n",
       "      <th>83</th>\n",
       "      <td>BUSAN</td>\n",
       "      <td>2022</td>\n",
       "      <td>84</td>\n",
       "      <td>4</td>\n",
       "      <td>22</td>\n",
       "      <td>13</td>\n",
       "      <td>53</td>\n",
       "      <td>N35.076538</td>\n",
       "      <td>E129.03624</td>\n",
       "    </tr>\n",
       "    <tr>\n",
       "      <th>84</th>\n",
       "      <td>BUSAN</td>\n",
       "      <td>2022</td>\n",
       "      <td>85</td>\n",
       "      <td>4</td>\n",
       "      <td>28</td>\n",
       "      <td>22</td>\n",
       "      <td>35</td>\n",
       "      <td>N35.052402</td>\n",
       "      <td>E129.04419</td>\n",
       "    </tr>\n",
       "    <tr>\n",
       "      <th>85</th>\n",
       "      <td>BUSAN</td>\n",
       "      <td>2022</td>\n",
       "      <td>86</td>\n",
       "      <td>5</td>\n",
       "      <td>7</td>\n",
       "      <td>19</td>\n",
       "      <td>53</td>\n",
       "      <td>N35.055955</td>\n",
       "      <td>E129.05468</td>\n",
       "    </tr>\n",
       "    <tr>\n",
       "      <th>86</th>\n",
       "      <td>BUSAN</td>\n",
       "      <td>2022</td>\n",
       "      <td>87</td>\n",
       "      <td>5</td>\n",
       "      <td>7</td>\n",
       "      <td>20</td>\n",
       "      <td>21</td>\n",
       "      <td>N35.052700</td>\n",
       "      <td>E129.06080</td>\n",
       "    </tr>\n",
       "  </tbody>\n",
       "</table>\n",
       "<p>87 rows × 9 columns</p>\n",
       "</div>"
      ],
      "text/plain": [
       "   busan_answer.area  busan_answer.tear  busan_answer.num  busan_answer.mon  \\\n",
       "0              BUSAN               2021                 1                 1   \n",
       "1              BUSAN               2021                 2                 1   \n",
       "2              BUSAN               2021                 3                 1   \n",
       "3              BUSAN               2021                 4                 1   \n",
       "4              BUSAN               2021                 5                 1   \n",
       "..               ...                ...               ...               ...   \n",
       "82             BUSAN               2022                83                 4   \n",
       "83             BUSAN               2022                84                 4   \n",
       "84             BUSAN               2022                85                 4   \n",
       "85             BUSAN               2022                86                 5   \n",
       "86             BUSAN               2022                87                 5   \n",
       "\n",
       "    busan_answer.day  busan_answer.hour  busan_answer.min busan_answer.lat  \\\n",
       "0                 17                  2                 4       N35.045368   \n",
       "1                 17                  4                16       N35.017088   \n",
       "2                 17                  4                56       N35.005498   \n",
       "3                 23                 14                 3       N35.016828   \n",
       "4                 23                 15                18       N35.034230   \n",
       "..               ...                ...               ...              ...   \n",
       "82                13                  2                17       N35.051660   \n",
       "83                22                 13                53       N35.076538   \n",
       "84                28                 22                35       N35.052402   \n",
       "85                 7                 19                53       N35.055955   \n",
       "86                 7                 20                21       N35.052700   \n",
       "\n",
       "   busan_answer.lon  \n",
       "0        E129.07101  \n",
       "1        E129.05879  \n",
       "2        E129.06747  \n",
       "3        E129.04048  \n",
       "4        E129.06190  \n",
       "..              ...  \n",
       "82       E129.04283  \n",
       "83       E129.03624  \n",
       "84       E129.04419  \n",
       "85       E129.05468  \n",
       "86       E129.06080  \n",
       "\n",
       "[87 rows x 9 columns]"
      ]
     },
     "execution_count": 54,
     "metadata": {},
     "output_type": "execute_result"
    }
   ],
   "source": [
    "busan_answer = pd.read_csv('../data/weather_data/original/추가자료/busan_answer.csv').drop('Unnamed: 0',axis=1)\n",
    "busan_answer"
   ]
  },
  {
   "cell_type": "code",
   "execution_count": 55,
   "id": "625004f4",
   "metadata": {},
   "outputs": [
    {
     "data": {
      "text/plain": [
       "array(['BUSAN'], dtype=object)"
      ]
     },
     "execution_count": 55,
     "metadata": {},
     "output_type": "execute_result"
    }
   ],
   "source": [
    "busan_answer['busan_answer.area'].unique()"
   ]
  },
  {
   "cell_type": "code",
   "execution_count": 56,
   "id": "0a88eea4",
   "metadata": {
    "scrolled": true
   },
   "outputs": [
    {
     "data": {
      "text/plain": [
       "Index(['busan_answer.area', 'busan_answer.tear', 'busan_answer.num',\n",
       "       'busan_answer.mon', 'busan_answer.day', 'busan_answer.hour',\n",
       "       'busan_answer.min', 'busan_answer.lat', 'busan_answer.lon'],\n",
       "      dtype='object')"
      ]
     },
     "execution_count": 56,
     "metadata": {},
     "output_type": "execute_result"
    }
   ],
   "source": [
    "busan_answer.columns"
   ]
  },
  {
   "cell_type": "code",
   "execution_count": 57,
   "id": "258866f5",
   "metadata": {},
   "outputs": [
    {
     "name": "stdout",
     "output_type": "stream",
     "text": [
      "<class 'pandas.core.frame.DataFrame'>\n",
      "RangeIndex: 87 entries, 0 to 86\n",
      "Data columns (total 9 columns):\n",
      " #   Column             Non-Null Count  Dtype \n",
      "---  ------             --------------  ----- \n",
      " 0   busan_answer.area  87 non-null     object\n",
      " 1   busan_answer.tear  87 non-null     int64 \n",
      " 2   busan_answer.num   87 non-null     int64 \n",
      " 3   busan_answer.mon   87 non-null     int64 \n",
      " 4   busan_answer.day   87 non-null     int64 \n",
      " 5   busan_answer.hour  87 non-null     int64 \n",
      " 6   busan_answer.min   87 non-null     int64 \n",
      " 7   busan_answer.lat   87 non-null     object\n",
      " 8   busan_answer.lon   87 non-null     object\n",
      "dtypes: int64(6), object(3)\n",
      "memory usage: 6.2+ KB\n"
     ]
    }
   ],
   "source": [
    "busan_answer.info()"
   ]
  },
  {
   "cell_type": "markdown",
   "id": "1fa5f6b9",
   "metadata": {},
   "source": [
    "## 날짜 시간 합치기"
   ]
  },
  {
   "cell_type": "code",
   "execution_count": 58,
   "id": "ab078186",
   "metadata": {},
   "outputs": [],
   "source": [
    "busan_answer['날짜'] = busan_answer['busan_answer.tear'].astype('str')+\"-\"+busan_answer['busan_answer.mon'].astype('str')+\"-\"+busan_answer['busan_answer.day'].astype('str')"
   ]
  },
  {
   "cell_type": "code",
   "execution_count": 59,
   "id": "09c7d8e9",
   "metadata": {},
   "outputs": [],
   "source": [
    "busan_answer['시간'] = busan_answer['busan_answer.hour'].astype('str')+\":\"+busan_answer['busan_answer.min'].astype('str')"
   ]
  },
  {
   "cell_type": "code",
   "execution_count": 60,
   "id": "b492c202",
   "metadata": {},
   "outputs": [],
   "source": [
    " busan_answer['날짜_시간'] = busan_answer['날짜']+ \" \" +busan_answer['시간']"
   ]
  },
  {
   "cell_type": "code",
   "execution_count": 61,
   "id": "fc1c606b",
   "metadata": {},
   "outputs": [],
   "source": [
    "from datetime import datetime"
   ]
  },
  {
   "cell_type": "code",
   "execution_count": 62,
   "id": "84c7ff1c",
   "metadata": {},
   "outputs": [],
   "source": [
    "busan_answer['날짜_시간']=busan_answer['날짜_시간'].apply(lambda x : datetime.strptime(x , '%Y-%m-%d %H:%M'))"
   ]
  },
  {
   "cell_type": "code",
   "execution_count": 63,
   "id": "cce46228",
   "metadata": {},
   "outputs": [],
   "source": [
    "busan_answer['날짜'] = busan_answer['날짜'].apply(lambda x : datetime.strptime(x , '%Y-%m-%d'))"
   ]
  },
  {
   "cell_type": "code",
   "execution_count": 64,
   "id": "46623377",
   "metadata": {},
   "outputs": [],
   "source": [
    "busan_answer['시간'] = busan_answer['날짜_시간'].apply(lambda x : str(x)[-8:])"
   ]
  },
  {
   "cell_type": "markdown",
   "id": "d1ad625f",
   "metadata": {},
   "source": [
    "## 합친 시간 드랍"
   ]
  },
  {
   "cell_type": "code",
   "execution_count": 65,
   "id": "250a7709",
   "metadata": {},
   "outputs": [
    {
     "data": {
      "text/html": [
       "<div>\n",
       "<style scoped>\n",
       "    .dataframe tbody tr th:only-of-type {\n",
       "        vertical-align: middle;\n",
       "    }\n",
       "\n",
       "    .dataframe tbody tr th {\n",
       "        vertical-align: top;\n",
       "    }\n",
       "\n",
       "    .dataframe thead th {\n",
       "        text-align: right;\n",
       "    }\n",
       "</style>\n",
       "<table border=\"1\" class=\"dataframe\">\n",
       "  <thead>\n",
       "    <tr style=\"text-align: right;\">\n",
       "      <th></th>\n",
       "      <th>busan_answer.num</th>\n",
       "      <th>busan_answer.lat</th>\n",
       "      <th>busan_answer.lon</th>\n",
       "      <th>날짜</th>\n",
       "      <th>시간</th>\n",
       "      <th>날짜_시간</th>\n",
       "    </tr>\n",
       "  </thead>\n",
       "  <tbody>\n",
       "    <tr>\n",
       "      <th>0</th>\n",
       "      <td>1</td>\n",
       "      <td>N35.045368</td>\n",
       "      <td>E129.07101</td>\n",
       "      <td>2021-01-17</td>\n",
       "      <td>02:04:00</td>\n",
       "      <td>2021-01-17 02:04:00</td>\n",
       "    </tr>\n",
       "    <tr>\n",
       "      <th>1</th>\n",
       "      <td>2</td>\n",
       "      <td>N35.017088</td>\n",
       "      <td>E129.05879</td>\n",
       "      <td>2021-01-17</td>\n",
       "      <td>04:16:00</td>\n",
       "      <td>2021-01-17 04:16:00</td>\n",
       "    </tr>\n",
       "    <tr>\n",
       "      <th>2</th>\n",
       "      <td>3</td>\n",
       "      <td>N35.005498</td>\n",
       "      <td>E129.06747</td>\n",
       "      <td>2021-01-17</td>\n",
       "      <td>04:56:00</td>\n",
       "      <td>2021-01-17 04:56:00</td>\n",
       "    </tr>\n",
       "    <tr>\n",
       "      <th>3</th>\n",
       "      <td>4</td>\n",
       "      <td>N35.016828</td>\n",
       "      <td>E129.04048</td>\n",
       "      <td>2021-01-23</td>\n",
       "      <td>14:03:00</td>\n",
       "      <td>2021-01-23 14:03:00</td>\n",
       "    </tr>\n",
       "    <tr>\n",
       "      <th>4</th>\n",
       "      <td>5</td>\n",
       "      <td>N35.034230</td>\n",
       "      <td>E129.06190</td>\n",
       "      <td>2021-01-23</td>\n",
       "      <td>15:18:00</td>\n",
       "      <td>2021-01-23 15:18:00</td>\n",
       "    </tr>\n",
       "    <tr>\n",
       "      <th>...</th>\n",
       "      <td>...</td>\n",
       "      <td>...</td>\n",
       "      <td>...</td>\n",
       "      <td>...</td>\n",
       "      <td>...</td>\n",
       "      <td>...</td>\n",
       "    </tr>\n",
       "    <tr>\n",
       "      <th>82</th>\n",
       "      <td>83</td>\n",
       "      <td>N35.051660</td>\n",
       "      <td>E129.04283</td>\n",
       "      <td>2022-04-13</td>\n",
       "      <td>02:17:00</td>\n",
       "      <td>2022-04-13 02:17:00</td>\n",
       "    </tr>\n",
       "    <tr>\n",
       "      <th>83</th>\n",
       "      <td>84</td>\n",
       "      <td>N35.076538</td>\n",
       "      <td>E129.03624</td>\n",
       "      <td>2022-04-22</td>\n",
       "      <td>13:53:00</td>\n",
       "      <td>2022-04-22 13:53:00</td>\n",
       "    </tr>\n",
       "    <tr>\n",
       "      <th>84</th>\n",
       "      <td>85</td>\n",
       "      <td>N35.052402</td>\n",
       "      <td>E129.04419</td>\n",
       "      <td>2022-04-28</td>\n",
       "      <td>22:35:00</td>\n",
       "      <td>2022-04-28 22:35:00</td>\n",
       "    </tr>\n",
       "    <tr>\n",
       "      <th>85</th>\n",
       "      <td>86</td>\n",
       "      <td>N35.055955</td>\n",
       "      <td>E129.05468</td>\n",
       "      <td>2022-05-07</td>\n",
       "      <td>19:53:00</td>\n",
       "      <td>2022-05-07 19:53:00</td>\n",
       "    </tr>\n",
       "    <tr>\n",
       "      <th>86</th>\n",
       "      <td>87</td>\n",
       "      <td>N35.052700</td>\n",
       "      <td>E129.06080</td>\n",
       "      <td>2022-05-07</td>\n",
       "      <td>20:21:00</td>\n",
       "      <td>2022-05-07 20:21:00</td>\n",
       "    </tr>\n",
       "  </tbody>\n",
       "</table>\n",
       "<p>87 rows × 6 columns</p>\n",
       "</div>"
      ],
      "text/plain": [
       "    busan_answer.num busan_answer.lat busan_answer.lon         날짜        시간  \\\n",
       "0                  1       N35.045368       E129.07101 2021-01-17  02:04:00   \n",
       "1                  2       N35.017088       E129.05879 2021-01-17  04:16:00   \n",
       "2                  3       N35.005498       E129.06747 2021-01-17  04:56:00   \n",
       "3                  4       N35.016828       E129.04048 2021-01-23  14:03:00   \n",
       "4                  5       N35.034230       E129.06190 2021-01-23  15:18:00   \n",
       "..               ...              ...              ...        ...       ...   \n",
       "82                83       N35.051660       E129.04283 2022-04-13  02:17:00   \n",
       "83                84       N35.076538       E129.03624 2022-04-22  13:53:00   \n",
       "84                85       N35.052402       E129.04419 2022-04-28  22:35:00   \n",
       "85                86       N35.055955       E129.05468 2022-05-07  19:53:00   \n",
       "86                87       N35.052700       E129.06080 2022-05-07  20:21:00   \n",
       "\n",
       "                 날짜_시간  \n",
       "0  2021-01-17 02:04:00  \n",
       "1  2021-01-17 04:16:00  \n",
       "2  2021-01-17 04:56:00  \n",
       "3  2021-01-23 14:03:00  \n",
       "4  2021-01-23 15:18:00  \n",
       "..                 ...  \n",
       "82 2022-04-13 02:17:00  \n",
       "83 2022-04-22 13:53:00  \n",
       "84 2022-04-28 22:35:00  \n",
       "85 2022-05-07 19:53:00  \n",
       "86 2022-05-07 20:21:00  \n",
       "\n",
       "[87 rows x 6 columns]"
      ]
     },
     "execution_count": 65,
     "metadata": {},
     "output_type": "execute_result"
    }
   ],
   "source": [
    "busan_answer = busan_answer.drop(['busan_answer.tear','busan_answer.mon','busan_answer.day','busan_answer.hour','busan_answer.min','busan_answer.area'],axis=1)\n",
    "busan_answer"
   ]
  },
  {
   "cell_type": "markdown",
   "id": "ccab690d",
   "metadata": {},
   "source": [
    "## 컬럼 이름 변경"
   ]
  },
  {
   "cell_type": "code",
   "execution_count": 66,
   "id": "ac12b62d",
   "metadata": {},
   "outputs": [
    {
     "data": {
      "text/html": [
       "<div>\n",
       "<style scoped>\n",
       "    .dataframe tbody tr th:only-of-type {\n",
       "        vertical-align: middle;\n",
       "    }\n",
       "\n",
       "    .dataframe tbody tr th {\n",
       "        vertical-align: top;\n",
       "    }\n",
       "\n",
       "    .dataframe thead th {\n",
       "        text-align: right;\n",
       "    }\n",
       "</style>\n",
       "<table border=\"1\" class=\"dataframe\">\n",
       "  <thead>\n",
       "    <tr style=\"text-align: right;\">\n",
       "      <th></th>\n",
       "      <th>선박번호</th>\n",
       "      <th>닻끌림_위도</th>\n",
       "      <th>닻끌림_경도</th>\n",
       "      <th>날짜</th>\n",
       "      <th>시간</th>\n",
       "      <th>날짜_시간</th>\n",
       "    </tr>\n",
       "  </thead>\n",
       "  <tbody>\n",
       "    <tr>\n",
       "      <th>0</th>\n",
       "      <td>1</td>\n",
       "      <td>N35.045368</td>\n",
       "      <td>E129.07101</td>\n",
       "      <td>2021-01-17</td>\n",
       "      <td>02:04:00</td>\n",
       "      <td>2021-01-17 02:04:00</td>\n",
       "    </tr>\n",
       "    <tr>\n",
       "      <th>1</th>\n",
       "      <td>2</td>\n",
       "      <td>N35.017088</td>\n",
       "      <td>E129.05879</td>\n",
       "      <td>2021-01-17</td>\n",
       "      <td>04:16:00</td>\n",
       "      <td>2021-01-17 04:16:00</td>\n",
       "    </tr>\n",
       "    <tr>\n",
       "      <th>2</th>\n",
       "      <td>3</td>\n",
       "      <td>N35.005498</td>\n",
       "      <td>E129.06747</td>\n",
       "      <td>2021-01-17</td>\n",
       "      <td>04:56:00</td>\n",
       "      <td>2021-01-17 04:56:00</td>\n",
       "    </tr>\n",
       "    <tr>\n",
       "      <th>3</th>\n",
       "      <td>4</td>\n",
       "      <td>N35.016828</td>\n",
       "      <td>E129.04048</td>\n",
       "      <td>2021-01-23</td>\n",
       "      <td>14:03:00</td>\n",
       "      <td>2021-01-23 14:03:00</td>\n",
       "    </tr>\n",
       "    <tr>\n",
       "      <th>4</th>\n",
       "      <td>5</td>\n",
       "      <td>N35.034230</td>\n",
       "      <td>E129.06190</td>\n",
       "      <td>2021-01-23</td>\n",
       "      <td>15:18:00</td>\n",
       "      <td>2021-01-23 15:18:00</td>\n",
       "    </tr>\n",
       "    <tr>\n",
       "      <th>...</th>\n",
       "      <td>...</td>\n",
       "      <td>...</td>\n",
       "      <td>...</td>\n",
       "      <td>...</td>\n",
       "      <td>...</td>\n",
       "      <td>...</td>\n",
       "    </tr>\n",
       "    <tr>\n",
       "      <th>82</th>\n",
       "      <td>83</td>\n",
       "      <td>N35.051660</td>\n",
       "      <td>E129.04283</td>\n",
       "      <td>2022-04-13</td>\n",
       "      <td>02:17:00</td>\n",
       "      <td>2022-04-13 02:17:00</td>\n",
       "    </tr>\n",
       "    <tr>\n",
       "      <th>83</th>\n",
       "      <td>84</td>\n",
       "      <td>N35.076538</td>\n",
       "      <td>E129.03624</td>\n",
       "      <td>2022-04-22</td>\n",
       "      <td>13:53:00</td>\n",
       "      <td>2022-04-22 13:53:00</td>\n",
       "    </tr>\n",
       "    <tr>\n",
       "      <th>84</th>\n",
       "      <td>85</td>\n",
       "      <td>N35.052402</td>\n",
       "      <td>E129.04419</td>\n",
       "      <td>2022-04-28</td>\n",
       "      <td>22:35:00</td>\n",
       "      <td>2022-04-28 22:35:00</td>\n",
       "    </tr>\n",
       "    <tr>\n",
       "      <th>85</th>\n",
       "      <td>86</td>\n",
       "      <td>N35.055955</td>\n",
       "      <td>E129.05468</td>\n",
       "      <td>2022-05-07</td>\n",
       "      <td>19:53:00</td>\n",
       "      <td>2022-05-07 19:53:00</td>\n",
       "    </tr>\n",
       "    <tr>\n",
       "      <th>86</th>\n",
       "      <td>87</td>\n",
       "      <td>N35.052700</td>\n",
       "      <td>E129.06080</td>\n",
       "      <td>2022-05-07</td>\n",
       "      <td>20:21:00</td>\n",
       "      <td>2022-05-07 20:21:00</td>\n",
       "    </tr>\n",
       "  </tbody>\n",
       "</table>\n",
       "<p>87 rows × 6 columns</p>\n",
       "</div>"
      ],
      "text/plain": [
       "    선박번호      닻끌림_위도      닻끌림_경도         날짜        시간               날짜_시간\n",
       "0      1  N35.045368  E129.07101 2021-01-17  02:04:00 2021-01-17 02:04:00\n",
       "1      2  N35.017088  E129.05879 2021-01-17  04:16:00 2021-01-17 04:16:00\n",
       "2      3  N35.005498  E129.06747 2021-01-17  04:56:00 2021-01-17 04:56:00\n",
       "3      4  N35.016828  E129.04048 2021-01-23  14:03:00 2021-01-23 14:03:00\n",
       "4      5  N35.034230  E129.06190 2021-01-23  15:18:00 2021-01-23 15:18:00\n",
       "..   ...         ...         ...        ...       ...                 ...\n",
       "82    83  N35.051660  E129.04283 2022-04-13  02:17:00 2022-04-13 02:17:00\n",
       "83    84  N35.076538  E129.03624 2022-04-22  13:53:00 2022-04-22 13:53:00\n",
       "84    85  N35.052402  E129.04419 2022-04-28  22:35:00 2022-04-28 22:35:00\n",
       "85    86  N35.055955  E129.05468 2022-05-07  19:53:00 2022-05-07 19:53:00\n",
       "86    87  N35.052700  E129.06080 2022-05-07  20:21:00 2022-05-07 20:21:00\n",
       "\n",
       "[87 rows x 6 columns]"
      ]
     },
     "execution_count": 66,
     "metadata": {},
     "output_type": "execute_result"
    }
   ],
   "source": [
    "busan_answer.columns = ['선박번호', '닻끌림_위도', '닻끌림_경도', '날짜' , '시간','날짜_시간']\n",
    "busan_answer"
   ]
  },
  {
   "cell_type": "markdown",
   "id": "ec56713a",
   "metadata": {},
   "source": [
    "## 위도, 경도 숫자화"
   ]
  },
  {
   "cell_type": "code",
   "execution_count": 67,
   "id": "90683f1a",
   "metadata": {},
   "outputs": [],
   "source": [
    "busan_answer['닻끌림_위도'] = busan_answer['닻끌림_위도'].apply(lambda x : float(x[1:]))"
   ]
  },
  {
   "cell_type": "code",
   "execution_count": 68,
   "id": "8e9d210e",
   "metadata": {},
   "outputs": [],
   "source": [
    "busan_answer['닻끌림_경도'] = busan_answer['닻끌림_경도'].apply(lambda x : float(x[1:]))"
   ]
  },
  {
   "cell_type": "markdown",
   "id": "13218ebf",
   "metadata": {},
   "source": [
    "## 컬럼 조정"
   ]
  },
  {
   "cell_type": "code",
   "execution_count": 69,
   "id": "26c30a3c",
   "metadata": {},
   "outputs": [
    {
     "data": {
      "text/html": [
       "<div>\n",
       "<style scoped>\n",
       "    .dataframe tbody tr th:only-of-type {\n",
       "        vertical-align: middle;\n",
       "    }\n",
       "\n",
       "    .dataframe tbody tr th {\n",
       "        vertical-align: top;\n",
       "    }\n",
       "\n",
       "    .dataframe thead th {\n",
       "        text-align: right;\n",
       "    }\n",
       "</style>\n",
       "<table border=\"1\" class=\"dataframe\">\n",
       "  <thead>\n",
       "    <tr style=\"text-align: right;\">\n",
       "      <th></th>\n",
       "      <th>날짜_시간</th>\n",
       "      <th>날짜</th>\n",
       "      <th>시간</th>\n",
       "      <th>닻끌림_위도</th>\n",
       "      <th>닻끌림_경도</th>\n",
       "    </tr>\n",
       "    <tr>\n",
       "      <th>선박번호</th>\n",
       "      <th></th>\n",
       "      <th></th>\n",
       "      <th></th>\n",
       "      <th></th>\n",
       "      <th></th>\n",
       "    </tr>\n",
       "  </thead>\n",
       "  <tbody>\n",
       "    <tr>\n",
       "      <th>1</th>\n",
       "      <td>2021-01-17 02:04:00</td>\n",
       "      <td>2021-01-17</td>\n",
       "      <td>02:04:00</td>\n",
       "      <td>35.045368</td>\n",
       "      <td>129.07101</td>\n",
       "    </tr>\n",
       "    <tr>\n",
       "      <th>2</th>\n",
       "      <td>2021-01-17 04:16:00</td>\n",
       "      <td>2021-01-17</td>\n",
       "      <td>04:16:00</td>\n",
       "      <td>35.017088</td>\n",
       "      <td>129.05879</td>\n",
       "    </tr>\n",
       "    <tr>\n",
       "      <th>3</th>\n",
       "      <td>2021-01-17 04:56:00</td>\n",
       "      <td>2021-01-17</td>\n",
       "      <td>04:56:00</td>\n",
       "      <td>35.005498</td>\n",
       "      <td>129.06747</td>\n",
       "    </tr>\n",
       "    <tr>\n",
       "      <th>4</th>\n",
       "      <td>2021-01-23 14:03:00</td>\n",
       "      <td>2021-01-23</td>\n",
       "      <td>14:03:00</td>\n",
       "      <td>35.016828</td>\n",
       "      <td>129.04048</td>\n",
       "    </tr>\n",
       "    <tr>\n",
       "      <th>5</th>\n",
       "      <td>2021-01-23 15:18:00</td>\n",
       "      <td>2021-01-23</td>\n",
       "      <td>15:18:00</td>\n",
       "      <td>35.034230</td>\n",
       "      <td>129.06190</td>\n",
       "    </tr>\n",
       "    <tr>\n",
       "      <th>...</th>\n",
       "      <td>...</td>\n",
       "      <td>...</td>\n",
       "      <td>...</td>\n",
       "      <td>...</td>\n",
       "      <td>...</td>\n",
       "    </tr>\n",
       "    <tr>\n",
       "      <th>83</th>\n",
       "      <td>2022-04-13 02:17:00</td>\n",
       "      <td>2022-04-13</td>\n",
       "      <td>02:17:00</td>\n",
       "      <td>35.051660</td>\n",
       "      <td>129.04283</td>\n",
       "    </tr>\n",
       "    <tr>\n",
       "      <th>84</th>\n",
       "      <td>2022-04-22 13:53:00</td>\n",
       "      <td>2022-04-22</td>\n",
       "      <td>13:53:00</td>\n",
       "      <td>35.076538</td>\n",
       "      <td>129.03624</td>\n",
       "    </tr>\n",
       "    <tr>\n",
       "      <th>85</th>\n",
       "      <td>2022-04-28 22:35:00</td>\n",
       "      <td>2022-04-28</td>\n",
       "      <td>22:35:00</td>\n",
       "      <td>35.052402</td>\n",
       "      <td>129.04419</td>\n",
       "    </tr>\n",
       "    <tr>\n",
       "      <th>86</th>\n",
       "      <td>2022-05-07 19:53:00</td>\n",
       "      <td>2022-05-07</td>\n",
       "      <td>19:53:00</td>\n",
       "      <td>35.055955</td>\n",
       "      <td>129.05468</td>\n",
       "    </tr>\n",
       "    <tr>\n",
       "      <th>87</th>\n",
       "      <td>2022-05-07 20:21:00</td>\n",
       "      <td>2022-05-07</td>\n",
       "      <td>20:21:00</td>\n",
       "      <td>35.052700</td>\n",
       "      <td>129.06080</td>\n",
       "    </tr>\n",
       "  </tbody>\n",
       "</table>\n",
       "<p>87 rows × 5 columns</p>\n",
       "</div>"
      ],
      "text/plain": [
       "                   날짜_시간         날짜        시간     닻끌림_위도     닻끌림_경도\n",
       "선박번호                                                               \n",
       "1    2021-01-17 02:04:00 2021-01-17  02:04:00  35.045368  129.07101\n",
       "2    2021-01-17 04:16:00 2021-01-17  04:16:00  35.017088  129.05879\n",
       "3    2021-01-17 04:56:00 2021-01-17  04:56:00  35.005498  129.06747\n",
       "4    2021-01-23 14:03:00 2021-01-23  14:03:00  35.016828  129.04048\n",
       "5    2021-01-23 15:18:00 2021-01-23  15:18:00  35.034230  129.06190\n",
       "...                  ...        ...       ...        ...        ...\n",
       "83   2022-04-13 02:17:00 2022-04-13  02:17:00  35.051660  129.04283\n",
       "84   2022-04-22 13:53:00 2022-04-22  13:53:00  35.076538  129.03624\n",
       "85   2022-04-28 22:35:00 2022-04-28  22:35:00  35.052402  129.04419\n",
       "86   2022-05-07 19:53:00 2022-05-07  19:53:00  35.055955  129.05468\n",
       "87   2022-05-07 20:21:00 2022-05-07  20:21:00  35.052700  129.06080\n",
       "\n",
       "[87 rows x 5 columns]"
      ]
     },
     "execution_count": 69,
     "metadata": {},
     "output_type": "execute_result"
    }
   ],
   "source": [
    "busan_answer = busan_answer[['선박번호','날짜_시간', '날짜', '시간', '닻끌림_위도','닻끌림_경도']].set_index('선박번호')\n",
    "busan_answer"
   ]
  },
  {
   "cell_type": "markdown",
   "id": "bf142609",
   "metadata": {},
   "source": [
    "## 파일 저장"
   ]
  },
  {
   "cell_type": "code",
   "execution_count": 70,
   "id": "d55795e0",
   "metadata": {},
   "outputs": [],
   "source": [
    "busan_answer.to_csv('../data/Busan/busan_answer.csv', encoding='cp949')"
   ]
  },
  {
   "cell_type": "markdown",
   "id": "e1331d70",
   "metadata": {},
   "source": [
    "## 이상치"
   ]
  },
  {
   "cell_type": "code",
   "execution_count": 71,
   "id": "5c02bc81",
   "metadata": {},
   "outputs": [
    {
     "data": {
      "text/plain": [
       "날짜_시간     0\n",
       "날짜        0\n",
       "시간        0\n",
       "닻끌림_위도    0\n",
       "닻끌림_경도    0\n",
       "dtype: int64"
      ]
     },
     "execution_count": 71,
     "metadata": {},
     "output_type": "execute_result"
    }
   ],
   "source": [
    "outlier = busan_answer[(busan_answer == -99) | (busan_answer == -99.9) | (busan_answer == -999) | (busan_answer == '-99') | (busan_answer == '-99.9') | (busan_answer == '-999')].dropna(how='all')\n",
    "outlier.count()"
   ]
  },
  {
   "cell_type": "markdown",
   "id": "1caceeeb",
   "metadata": {},
   "source": [
    "## 중복"
   ]
  },
  {
   "cell_type": "code",
   "execution_count": 72,
   "id": "1a4a1149",
   "metadata": {},
   "outputs": [
    {
     "data": {
      "text/html": [
       "<div>\n",
       "<style scoped>\n",
       "    .dataframe tbody tr th:only-of-type {\n",
       "        vertical-align: middle;\n",
       "    }\n",
       "\n",
       "    .dataframe tbody tr th {\n",
       "        vertical-align: top;\n",
       "    }\n",
       "\n",
       "    .dataframe thead th {\n",
       "        text-align: right;\n",
       "    }\n",
       "</style>\n",
       "<table border=\"1\" class=\"dataframe\">\n",
       "  <thead>\n",
       "    <tr style=\"text-align: right;\">\n",
       "      <th></th>\n",
       "      <th>날짜_시간</th>\n",
       "      <th>날짜</th>\n",
       "      <th>시간</th>\n",
       "      <th>닻끌림_위도</th>\n",
       "      <th>닻끌림_경도</th>\n",
       "    </tr>\n",
       "    <tr>\n",
       "      <th>선박번호</th>\n",
       "      <th></th>\n",
       "      <th></th>\n",
       "      <th></th>\n",
       "      <th></th>\n",
       "      <th></th>\n",
       "    </tr>\n",
       "  </thead>\n",
       "  <tbody>\n",
       "    <tr>\n",
       "      <th>43</th>\n",
       "      <td>2021-07-04 05:53:00</td>\n",
       "      <td>2021-07-04</td>\n",
       "      <td>05:53:00</td>\n",
       "      <td>35.050882</td>\n",
       "      <td>129.04822</td>\n",
       "    </tr>\n",
       "    <tr>\n",
       "      <th>44</th>\n",
       "      <td>2021-07-04 05:53:00</td>\n",
       "      <td>2021-07-04</td>\n",
       "      <td>05:53:00</td>\n",
       "      <td>35.050882</td>\n",
       "      <td>129.04822</td>\n",
       "    </tr>\n",
       "  </tbody>\n",
       "</table>\n",
       "</div>"
      ],
      "text/plain": [
       "                   날짜_시간         날짜        시간     닻끌림_위도     닻끌림_경도\n",
       "선박번호                                                               \n",
       "43   2021-07-04 05:53:00 2021-07-04  05:53:00  35.050882  129.04822\n",
       "44   2021-07-04 05:53:00 2021-07-04  05:53:00  35.050882  129.04822"
      ]
     },
     "execution_count": 72,
     "metadata": {},
     "output_type": "execute_result"
    }
   ],
   "source": [
    "busan_answer[busan_answer.duplicated(keep=False)]"
   ]
  },
  {
   "cell_type": "code",
   "execution_count": 73,
   "id": "59b02994",
   "metadata": {},
   "outputs": [
    {
     "data": {
      "text/html": [
       "<div>\n",
       "<style scoped>\n",
       "    .dataframe tbody tr th:only-of-type {\n",
       "        vertical-align: middle;\n",
       "    }\n",
       "\n",
       "    .dataframe tbody tr th {\n",
       "        vertical-align: top;\n",
       "    }\n",
       "\n",
       "    .dataframe thead th {\n",
       "        text-align: right;\n",
       "    }\n",
       "</style>\n",
       "<table border=\"1\" class=\"dataframe\">\n",
       "  <thead>\n",
       "    <tr style=\"text-align: right;\">\n",
       "      <th></th>\n",
       "      <th>날짜_시간</th>\n",
       "      <th>날짜</th>\n",
       "      <th>시간</th>\n",
       "      <th>닻끌림_위도</th>\n",
       "      <th>닻끌림_경도</th>\n",
       "    </tr>\n",
       "    <tr>\n",
       "      <th>선박번호</th>\n",
       "      <th></th>\n",
       "      <th></th>\n",
       "      <th></th>\n",
       "      <th></th>\n",
       "      <th></th>\n",
       "    </tr>\n",
       "  </thead>\n",
       "  <tbody>\n",
       "    <tr>\n",
       "      <th>1</th>\n",
       "      <td>2021-01-17 02:04:00</td>\n",
       "      <td>2021-01-17</td>\n",
       "      <td>02:04:00</td>\n",
       "      <td>35.045368</td>\n",
       "      <td>129.07101</td>\n",
       "    </tr>\n",
       "    <tr>\n",
       "      <th>2</th>\n",
       "      <td>2021-01-17 04:16:00</td>\n",
       "      <td>2021-01-17</td>\n",
       "      <td>04:16:00</td>\n",
       "      <td>35.017088</td>\n",
       "      <td>129.05879</td>\n",
       "    </tr>\n",
       "    <tr>\n",
       "      <th>3</th>\n",
       "      <td>2021-01-17 04:56:00</td>\n",
       "      <td>2021-01-17</td>\n",
       "      <td>04:56:00</td>\n",
       "      <td>35.005498</td>\n",
       "      <td>129.06747</td>\n",
       "    </tr>\n",
       "    <tr>\n",
       "      <th>4</th>\n",
       "      <td>2021-01-23 14:03:00</td>\n",
       "      <td>2021-01-23</td>\n",
       "      <td>14:03:00</td>\n",
       "      <td>35.016828</td>\n",
       "      <td>129.04048</td>\n",
       "    </tr>\n",
       "    <tr>\n",
       "      <th>5</th>\n",
       "      <td>2021-01-23 15:18:00</td>\n",
       "      <td>2021-01-23</td>\n",
       "      <td>15:18:00</td>\n",
       "      <td>35.034230</td>\n",
       "      <td>129.06190</td>\n",
       "    </tr>\n",
       "    <tr>\n",
       "      <th>...</th>\n",
       "      <td>...</td>\n",
       "      <td>...</td>\n",
       "      <td>...</td>\n",
       "      <td>...</td>\n",
       "      <td>...</td>\n",
       "    </tr>\n",
       "    <tr>\n",
       "      <th>83</th>\n",
       "      <td>2022-04-13 02:17:00</td>\n",
       "      <td>2022-04-13</td>\n",
       "      <td>02:17:00</td>\n",
       "      <td>35.051660</td>\n",
       "      <td>129.04283</td>\n",
       "    </tr>\n",
       "    <tr>\n",
       "      <th>84</th>\n",
       "      <td>2022-04-22 13:53:00</td>\n",
       "      <td>2022-04-22</td>\n",
       "      <td>13:53:00</td>\n",
       "      <td>35.076538</td>\n",
       "      <td>129.03624</td>\n",
       "    </tr>\n",
       "    <tr>\n",
       "      <th>85</th>\n",
       "      <td>2022-04-28 22:35:00</td>\n",
       "      <td>2022-04-28</td>\n",
       "      <td>22:35:00</td>\n",
       "      <td>35.052402</td>\n",
       "      <td>129.04419</td>\n",
       "    </tr>\n",
       "    <tr>\n",
       "      <th>86</th>\n",
       "      <td>2022-05-07 19:53:00</td>\n",
       "      <td>2022-05-07</td>\n",
       "      <td>19:53:00</td>\n",
       "      <td>35.055955</td>\n",
       "      <td>129.05468</td>\n",
       "    </tr>\n",
       "    <tr>\n",
       "      <th>87</th>\n",
       "      <td>2022-05-07 20:21:00</td>\n",
       "      <td>2022-05-07</td>\n",
       "      <td>20:21:00</td>\n",
       "      <td>35.052700</td>\n",
       "      <td>129.06080</td>\n",
       "    </tr>\n",
       "  </tbody>\n",
       "</table>\n",
       "<p>87 rows × 5 columns</p>\n",
       "</div>"
      ],
      "text/plain": [
       "                   날짜_시간         날짜        시간     닻끌림_위도     닻끌림_경도\n",
       "선박번호                                                               \n",
       "1    2021-01-17 02:04:00 2021-01-17  02:04:00  35.045368  129.07101\n",
       "2    2021-01-17 04:16:00 2021-01-17  04:16:00  35.017088  129.05879\n",
       "3    2021-01-17 04:56:00 2021-01-17  04:56:00  35.005498  129.06747\n",
       "4    2021-01-23 14:03:00 2021-01-23  14:03:00  35.016828  129.04048\n",
       "5    2021-01-23 15:18:00 2021-01-23  15:18:00  35.034230  129.06190\n",
       "...                  ...        ...       ...        ...        ...\n",
       "83   2022-04-13 02:17:00 2022-04-13  02:17:00  35.051660  129.04283\n",
       "84   2022-04-22 13:53:00 2022-04-22  13:53:00  35.076538  129.03624\n",
       "85   2022-04-28 22:35:00 2022-04-28  22:35:00  35.052402  129.04419\n",
       "86   2022-05-07 19:53:00 2022-05-07  19:53:00  35.055955  129.05468\n",
       "87   2022-05-07 20:21:00 2022-05-07  20:21:00  35.052700  129.06080\n",
       "\n",
       "[87 rows x 5 columns]"
      ]
     },
     "execution_count": 73,
     "metadata": {},
     "output_type": "execute_result"
    }
   ],
   "source": [
    "busan_answer"
   ]
  },
  {
   "cell_type": "code",
   "execution_count": 74,
   "id": "2a17fd55",
   "metadata": {},
   "outputs": [
    {
     "data": {
      "text/html": [
       "<div>\n",
       "<style scoped>\n",
       "    .dataframe tbody tr th:only-of-type {\n",
       "        vertical-align: middle;\n",
       "    }\n",
       "\n",
       "    .dataframe tbody tr th {\n",
       "        vertical-align: top;\n",
       "    }\n",
       "\n",
       "    .dataframe thead th {\n",
       "        text-align: right;\n",
       "    }\n",
       "</style>\n",
       "<table border=\"1\" class=\"dataframe\">\n",
       "  <thead>\n",
       "    <tr style=\"text-align: right;\">\n",
       "      <th></th>\n",
       "      <th>닻끌림_위도</th>\n",
       "      <th>닻끌림_경도</th>\n",
       "    </tr>\n",
       "  </thead>\n",
       "  <tbody>\n",
       "    <tr>\n",
       "      <th>count</th>\n",
       "      <td>87.000000</td>\n",
       "      <td>87.000000</td>\n",
       "    </tr>\n",
       "    <tr>\n",
       "      <th>mean</th>\n",
       "      <td>35.052266</td>\n",
       "      <td>129.050825</td>\n",
       "    </tr>\n",
       "    <tr>\n",
       "      <th>std</th>\n",
       "      <td>0.017392</td>\n",
       "      <td>0.014089</td>\n",
       "    </tr>\n",
       "    <tr>\n",
       "      <th>min</th>\n",
       "      <td>35.005498</td>\n",
       "      <td>129.026630</td>\n",
       "    </tr>\n",
       "    <tr>\n",
       "      <th>25%</th>\n",
       "      <td>35.044950</td>\n",
       "      <td>129.041020</td>\n",
       "    </tr>\n",
       "    <tr>\n",
       "      <th>50%</th>\n",
       "      <td>35.055225</td>\n",
       "      <td>129.048530</td>\n",
       "    </tr>\n",
       "    <tr>\n",
       "      <th>75%</th>\n",
       "      <td>35.062383</td>\n",
       "      <td>129.059895</td>\n",
       "    </tr>\n",
       "    <tr>\n",
       "      <th>max</th>\n",
       "      <td>35.097468</td>\n",
       "      <td>129.095820</td>\n",
       "    </tr>\n",
       "  </tbody>\n",
       "</table>\n",
       "</div>"
      ],
      "text/plain": [
       "          닻끌림_위도      닻끌림_경도\n",
       "count  87.000000   87.000000\n",
       "mean   35.052266  129.050825\n",
       "std     0.017392    0.014089\n",
       "min    35.005498  129.026630\n",
       "25%    35.044950  129.041020\n",
       "50%    35.055225  129.048530\n",
       "75%    35.062383  129.059895\n",
       "max    35.097468  129.095820"
      ]
     },
     "execution_count": 74,
     "metadata": {},
     "output_type": "execute_result"
    }
   ],
   "source": [
    "busan_answer.describe()"
   ]
  },
  {
   "cell_type": "code",
   "execution_count": 79,
   "id": "a49475c2",
   "metadata": {},
   "outputs": [
    {
     "data": {
      "text/html": [
       "<div>\n",
       "<style scoped>\n",
       "    .dataframe tbody tr th:only-of-type {\n",
       "        vertical-align: middle;\n",
       "    }\n",
       "\n",
       "    .dataframe tbody tr th {\n",
       "        vertical-align: top;\n",
       "    }\n",
       "\n",
       "    .dataframe thead th {\n",
       "        text-align: right;\n",
       "    }\n",
       "</style>\n",
       "<table border=\"1\" class=\"dataframe\">\n",
       "  <thead>\n",
       "    <tr style=\"text-align: right;\">\n",
       "      <th></th>\n",
       "      <th>시간</th>\n",
       "    </tr>\n",
       "    <tr>\n",
       "      <th>선박번호</th>\n",
       "      <th></th>\n",
       "    </tr>\n",
       "  </thead>\n",
       "  <tbody>\n",
       "    <tr>\n",
       "      <th>1</th>\n",
       "      <td>1</td>\n",
       "    </tr>\n",
       "    <tr>\n",
       "      <th>2</th>\n",
       "      <td>1</td>\n",
       "    </tr>\n",
       "    <tr>\n",
       "      <th>3</th>\n",
       "      <td>1</td>\n",
       "    </tr>\n",
       "    <tr>\n",
       "      <th>4</th>\n",
       "      <td>1</td>\n",
       "    </tr>\n",
       "    <tr>\n",
       "      <th>5</th>\n",
       "      <td>1</td>\n",
       "    </tr>\n",
       "    <tr>\n",
       "      <th>...</th>\n",
       "      <td>...</td>\n",
       "    </tr>\n",
       "    <tr>\n",
       "      <th>83</th>\n",
       "      <td>1</td>\n",
       "    </tr>\n",
       "    <tr>\n",
       "      <th>84</th>\n",
       "      <td>1</td>\n",
       "    </tr>\n",
       "    <tr>\n",
       "      <th>85</th>\n",
       "      <td>1</td>\n",
       "    </tr>\n",
       "    <tr>\n",
       "      <th>86</th>\n",
       "      <td>1</td>\n",
       "    </tr>\n",
       "    <tr>\n",
       "      <th>87</th>\n",
       "      <td>1</td>\n",
       "    </tr>\n",
       "  </tbody>\n",
       "</table>\n",
       "<p>87 rows × 1 columns</p>\n",
       "</div>"
      ],
      "text/plain": [
       "      시간\n",
       "선박번호    \n",
       "1      1\n",
       "2      1\n",
       "3      1\n",
       "4      1\n",
       "5      1\n",
       "...   ..\n",
       "83     1\n",
       "84     1\n",
       "85     1\n",
       "86     1\n",
       "87     1\n",
       "\n",
       "[87 rows x 1 columns]"
      ]
     },
     "execution_count": 79,
     "metadata": {},
     "output_type": "execute_result"
    }
   ],
   "source": [
    "busan_answer.groupby('선박번호')[['시간']].count()"
   ]
  },
  {
   "cell_type": "code",
   "execution_count": 78,
   "id": "d3a83fc2",
   "metadata": {},
   "outputs": [],
   "source": [
    "busan_answer.groupby('선박번호')[['시간']].count().to_csv('./선재_answer_groupby.csv')"
   ]
  },
  {
   "cell_type": "markdown",
   "id": "f8670ce9",
   "metadata": {},
   "source": [
    "# ulsan_answer"
   ]
  },
  {
   "cell_type": "code",
   "execution_count": null,
   "id": "e9c5f7e6",
   "metadata": {},
   "outputs": [],
   "source": [
    "ulsan_answer = pd.read_csv('../data/weather_data/original/추가자료/ulsan_answer.csv').drop('Unnamed: 0',axis=1)"
   ]
  },
  {
   "cell_type": "code",
   "execution_count": null,
   "id": "49ed5eba",
   "metadata": {},
   "outputs": [],
   "source": [
    "ulsan_answer['ulsan_answer.area'].unique()"
   ]
  },
  {
   "cell_type": "code",
   "execution_count": null,
   "id": "eb308691",
   "metadata": {},
   "outputs": [],
   "source": [
    "ulsan_answer = ulsan_answer.drop('ulsan_answer.area',axis=1)"
   ]
  },
  {
   "cell_type": "code",
   "execution_count": null,
   "id": "8acefe48",
   "metadata": {},
   "outputs": [],
   "source": [
    "ulsan_answer.columns"
   ]
  },
  {
   "cell_type": "markdown",
   "id": "5e7d8701",
   "metadata": {},
   "source": [
    "## 날짜 시간 합치기"
   ]
  },
  {
   "cell_type": "code",
   "execution_count": null,
   "id": "0926b018",
   "metadata": {},
   "outputs": [],
   "source": [
    "ulsan_answer['날짜'] = ulsan_answer['ulsan_answer.tear'].astype('str')+\"-\"+ulsan_answer['ulsan_answer.mon'].astype('str')+\"-\"+ulsan_answer['ulsan_answer.day'].astype('str')\n",
    "\n",
    "ulsan_answer['시간'] = ulsan_answer['ulsan_answer.hour'].astype('str')+\":\"+ulsan_answer['ulsan_answer.min'].astype('str')\n",
    "\n",
    "\n",
    "ulsan_answer['날짜_시간'] = ulsan_answer['날짜']+ \" \" +ulsan_answer['시간']"
   ]
  },
  {
   "cell_type": "code",
   "execution_count": null,
   "id": "631c00e1",
   "metadata": {},
   "outputs": [],
   "source": [
    "ulsan_answer['날짜_시간']=ulsan_answer['날짜_시간'].apply(lambda x : datetime.strptime(x , '%Y-%m-%d %H:%M'))"
   ]
  },
  {
   "cell_type": "code",
   "execution_count": null,
   "id": "2198c8e1",
   "metadata": {},
   "outputs": [],
   "source": [
    "ulsan_answer['날짜'] = ulsan_answer['날짜'].apply(lambda x : datetime.strptime(x , '%Y-%m-%d'))\n",
    "\n",
    "ulsan_answer['시간'] = ulsan_answer['날짜_시간'].apply(lambda x : str(x)[-8:])"
   ]
  },
  {
   "cell_type": "markdown",
   "id": "0c0d588a",
   "metadata": {},
   "source": [
    "## 합친시간 드랍"
   ]
  },
  {
   "cell_type": "code",
   "execution_count": null,
   "id": "d5244481",
   "metadata": {},
   "outputs": [],
   "source": [
    "ulsan_answer = ulsan_answer.drop(['ulsan_answer.tear','ulsan_answer.mon','ulsan_answer.day','ulsan_answer.hour','ulsan_answer.min'],axis=1)"
   ]
  },
  {
   "cell_type": "markdown",
   "id": "7c743289",
   "metadata": {},
   "source": [
    "## 컬럼이름 변경"
   ]
  },
  {
   "cell_type": "code",
   "execution_count": null,
   "id": "4d8757c8",
   "metadata": {},
   "outputs": [],
   "source": [
    "ulsan_answer.columns = ['선박번호','닻끌림_위도','닻끌림_경도','날짜','시간','날짜_시간']"
   ]
  },
  {
   "cell_type": "code",
   "execution_count": null,
   "id": "af51daee",
   "metadata": {},
   "outputs": [],
   "source": [
    "ulsan_answer = ulsan_answer[['선박번호','날짜_시간','날짜','시간','닻끌림_위도','닻끌림_경도']].set_index('선박번호')"
   ]
  },
  {
   "cell_type": "markdown",
   "id": "fe8005ba",
   "metadata": {},
   "source": [
    "## 위도 경도 드랍"
   ]
  },
  {
   "cell_type": "code",
   "execution_count": null,
   "id": "b4ba000c",
   "metadata": {},
   "outputs": [],
   "source": [
    "ulsan_answer['닻끌림_위도'] = ulsan_answer['닻끌림_위도'].apply(lambda x : float(x[1:]))\n",
    "ulsan_answer['닻끌림_경도'] = ulsan_answer['닻끌림_경도'].apply(lambda x : float(x[1:]))"
   ]
  },
  {
   "cell_type": "markdown",
   "id": "865a3c1d",
   "metadata": {},
   "source": [
    "## 이상치"
   ]
  },
  {
   "cell_type": "code",
   "execution_count": null,
   "id": "4d6257ea",
   "metadata": {},
   "outputs": [],
   "source": [
    "outlier = ulsan_answer[(ulsan_answer == -99) | (ulsan_answer == -99.9) | (ulsan_answer == -999) | (ulsan_answer == '-99') | (ulsan_answer == '-99.9') | (ulsan_answer == '-999')].dropna(how='all')\n",
    "outlier.count()"
   ]
  },
  {
   "cell_type": "markdown",
   "id": "51fa1ee1",
   "metadata": {},
   "source": [
    "## 중복"
   ]
  },
  {
   "cell_type": "code",
   "execution_count": null,
   "id": "cef23cea",
   "metadata": {},
   "outputs": [],
   "source": [
    "ulsan_answer[ulsan_answer.duplicated(keep=False)]"
   ]
  },
  {
   "cell_type": "code",
   "execution_count": null,
   "id": "fb98622a",
   "metadata": {},
   "outputs": [],
   "source": [
    "ulsan_answer"
   ]
  },
  {
   "cell_type": "markdown",
   "id": "6992d3ad",
   "metadata": {},
   "source": [
    "## 파일 저장"
   ]
  },
  {
   "cell_type": "code",
   "execution_count": null,
   "id": "a352784d",
   "metadata": {},
   "outputs": [],
   "source": [
    "ulsan_answer[ulsan_answer.duplicated(keep=False)]\n",
    "\n",
    "ulsan_answer.to_csv('../data/Ulsan/ulsan_answer.csv', encoding='cp949')"
   ]
  }
 ],
 "metadata": {
  "kernelspec": {
   "display_name": "Python 3 (ipykernel)",
   "language": "python",
   "name": "python3"
  },
  "language_info": {
   "codemirror_mode": {
    "name": "ipython",
    "version": 3
   },
   "file_extension": ".py",
   "mimetype": "text/x-python",
   "name": "python",
   "nbconvert_exporter": "python",
   "pygments_lexer": "ipython3",
   "version": "3.9.13"
  },
  "toc": {
   "base_numbering": 1,
   "nav_menu": {},
   "number_sections": true,
   "sideBar": true,
   "skip_h1_title": false,
   "title_cell": "Table of Contents",
   "title_sidebar": "Contents",
   "toc_cell": false,
   "toc_position": {
    "height": "648.444px",
    "left": "45px",
    "top": "134.778px",
    "width": "218px"
   },
   "toc_section_display": true,
   "toc_window_display": true
  }
 },
 "nbformat": 4,
 "nbformat_minor": 5
}
